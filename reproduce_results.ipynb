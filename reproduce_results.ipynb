{
 "cells": [
  {
   "cell_type": "code",
   "execution_count": 17,
   "id": "2f89805d-f36b-46b7-baa9-bf2e43415ad9",
   "metadata": {},
   "outputs": [
    {
     "name": "stdout",
     "output_type": "stream",
     "text": [
      "The autoreload extension is already loaded. To reload it, use:\n",
      "  %reload_ext autoreload\n"
     ]
    }
   ],
   "source": [
    "%matplotlib inline\n",
    "%load_ext autoreload\n",
    "%autoreload 2\n",
    "\n",
    "from pathlib import Path\n",
    "import scipy\n",
    "import numpy as np\n",
    "import os,sys\n",
    "\n",
    "# for windows\n",
    "'''\n",
    "currentdir = Path.cwd()\n",
    "sys.path.insert(0,str(currentdir)+'\\\\utils') \n",
    "'''\n",
    "\n",
    "# for ubuntu\n",
    "os.chdir('./utils')\n",
    "import skseq\n",
    "import skseq.sequences.structured_perceptron as spc\n",
    "from utils import *"
   ]
  },
  {
   "attachments": {},
   "cell_type": "markdown",
   "id": "0d32a652",
   "metadata": {},
   "source": [
    "This notebook loads the data, loads the fitted models from disk and evaluates the models."
   ]
  },
  {
   "attachments": {},
   "cell_type": "markdown",
   "id": "eaf16f2c",
   "metadata": {},
   "source": [
    "## Loading Data"
   ]
  },
  {
   "cell_type": "code",
   "execution_count": 18,
   "id": "03595663",
   "metadata": {},
   "outputs": [],
   "source": [
    "corpus = NerCorpus()"
   ]
  },
  {
   "cell_type": "code",
   "execution_count": 19,
   "id": "b2b3c676-377c-41f0-a956-042ce13405c9",
   "metadata": {},
   "outputs": [],
   "source": [
    "data_path = \"../data\"\n",
    "\n",
    "#data_path = parentdir + data_path\n",
    "\n",
    "train_seq = corpus.read_sequence_list(data_path + \"/train_data_ner.csv\", \n",
    "                                            max_sent_len=100)\n",
    "\n",
    "test_seq = corpus.read_sequence_list(data_path + \"/test_data_ner.csv\",\n",
    "                                           max_sent_len=100)\n",
    "\n",
    "tiny_test_seq = corpus.read_sequence_list(data_path + \"/tiny_test.csv\", \n",
    "                                          max_sent_len=100)"
   ]
  },
  {
   "cell_type": "code",
   "execution_count": 20,
   "id": "828cca92-fc81-4dd8-99d9-73cac8a67f86",
   "metadata": {},
   "outputs": [],
   "source": [
    "tiny_test_metrics = {'Accuracy':[],'F1':[]}\n",
    "names = []"
   ]
  },
  {
   "cell_type": "markdown",
   "id": "e6555e14-e60f-4578-a133-0dac4152eb9e",
   "metadata": {},
   "source": [
    "## Tiny test print"
   ]
  },
  {
   "cell_type": "code",
   "execution_count": 30,
   "id": "5d71a2e8-f925-4744-81a0-1d05eef53575",
   "metadata": {},
   "outputs": [
    {
     "name": "stdout",
     "output_type": "stream",
     "text": [
      "The/O programmers/O from/O Barcelona/B-geo might/O write/O a/O sentence/O without/O a/O spell/O checker/O ./O \n",
      "The/O programmers/O from/O Barchelona/B-geo cannot/O write/O a/O sentence/O without/O a/O spell/O checker/O ./O \n",
      "Jack/B-per London/I-per went/O to/O Parris/B-geo ./O \n",
      "Jack/B-per London/I-per went/O to/O Paris/B-geo ./O \n",
      "Bill/B-per gates/I-per and/O Steve/B-per jobs/I-per never/O thought/O Microsoft/B-org would/O become/O such/O a/O big/O company/O ./O \n",
      "Bill/B-per Gates/I-per and/O Steve/B-per Jobs/I-per never/O thought/O Microsoft/B-org would/O become/O such/O a/O big/O company/O ./O \n",
      "The/O president/O of/O U.S.A/B-geo thought/O they/O could/O win/O the/O war/O ./O \n",
      "The/O president/O of/O the/O United/B-geo States/I-geo of/I-geo America/I-geo thought/O they/O could/O win/O the/O war/O ./O \n",
      "The/O king/O of/O Saudi/B-geo Arabia/I-geo wanted/O total/O control/O ./O \n",
      "Robin/B-per does/O not/O want/O to/O go/O to/O Saudi/B-geo Arabia/I-geo ./O \n",
      "Apple/B-org is/O a/O great/O company/O ./O \n",
      "I/O really/O love/O apples/O and/O oranges/O ./O \n",
      "\n"
     ]
    }
   ],
   "source": [
    "print(decode_pred(tiny_test_seq.seq_list, corpus))"
   ]
  },
  {
   "attachments": {},
   "cell_type": "markdown",
   "id": "c0bbeb7e",
   "metadata": {},
   "source": [
    "## Structure Perceptron"
   ]
  },
  {
   "attachments": {},
   "cell_type": "markdown",
   "id": "1430a851",
   "metadata": {},
   "source": [
    "### Structure Perceptron w/ given features"
   ]
  },
  {
   "cell_type": "code",
   "execution_count": 31,
   "id": "34c30ec6-3714-4317-8253-3d5189e7cc14",
   "metadata": {},
   "outputs": [],
   "source": [
    "feature_mapper = skseq.sequences.id_feature.IDFeatures(train_seq)\n",
    "feature_mapper.build_features()\n",
    "\n",
    "sp = spc.StructuredPerceptron(corpus.word_dict, corpus.tag_dict, feature_mapper)\n",
    "sp.load_model(dir=\"../fitted_models/perceptron_5_iter_given\")"
   ]
  },
  {
   "cell_type": "code",
   "execution_count": 32,
   "id": "0bf609ed-f838-408e-9d85-b0aa27d45b7f",
   "metadata": {},
   "outputs": [],
   "source": [
    "#pred_train = sp.viterbi_decode_corpus(train_seq)\n",
    "#pred_test  = sp.viterbi_decode_corpus(test_seq)\n",
    "pred_tiny_test  = sp.viterbi_decode_corpus(tiny_test_seq)"
   ]
  },
  {
   "cell_type": "code",
   "execution_count": 33,
   "id": "15e2c838-384a-4528-b6a9-6f927ea3f556",
   "metadata": {},
   "outputs": [],
   "source": [
    "acc, f1 = Evaluate_metrics(tiny_test_seq.seq_list, pred_tiny_test, corpus)\n",
    "tiny_test_metrics['Accuracy'].append(acc)\n",
    "tiny_test_metrics['F1'].append(f1)\n",
    "names.append('SP-given')"
   ]
  },
  {
   "cell_type": "code",
   "execution_count": 34,
   "id": "35095298-1957-444a-b249-3300f521158e",
   "metadata": {},
   "outputs": [
    {
     "name": "stdout",
     "output_type": "stream",
     "text": [
      "The/O programmers/O from/O Barcelona/B-org might/O write/O a/O sentence/O without/O a/O spell/O checker/O ./O \n",
      "The/O programmers/O from/O Barchelona/O cannot/O write/O a/O sentence/O without/O a/O spell/O checker/O ./O \n",
      "Jack/B-per London/B-geo went/O to/O Parris/O ./O \n",
      "Jack/B-per London/B-geo went/O to/O Paris/B-geo ./O \n",
      "Bill/B-per gates/I-per and/O Steve/B-per jobs/O never/O thought/O Microsoft/B-org would/O become/O such/O a/O big/O company/O ./O \n",
      "Bill/B-per Gates/I-per and/O Steve/B-per Jobs/I-per never/O thought/O Microsoft/B-org would/O become/O such/O a/O big/O company/O ./O \n",
      "The/O president/O of/O U.S.A/O thought/O they/O could/O win/O the/O war/O ./O \n",
      "The/O president/O of/O the/O United/B-geo States/I-geo of/I-geo America/I-geo thought/O they/O could/O win/O the/O war/O ./O \n",
      "The/O king/O of/O Saudi/B-per Arabia/I-per wanted/O total/O control/O ./O \n",
      "Robin/O does/O not/O want/O to/O go/O to/O Saudi/B-org Arabia/I-org ./O \n",
      "Apple/O is/O a/O great/O company/O ./O \n",
      "I/O really/O love/O apples/O and/O oranges/O ./O \n",
      "\n"
     ]
    }
   ],
   "source": [
    "print(decode_pred(pred_tiny_test, corpus))"
   ]
  },
  {
   "attachments": {},
   "cell_type": "markdown",
   "id": "d7f92d88",
   "metadata": {},
   "source": [
    "### Structure Perceptron w/ extra features"
   ]
  },
  {
   "cell_type": "code",
   "execution_count": 35,
   "id": "aca5f3cf-d42c-43c0-8941-131e13059f59",
   "metadata": {},
   "outputs": [],
   "source": [
    "from skseq.sequences.extended_features import *\n",
    "\n",
    "feature_mapper_ext = Extended_Features(train_seq)\n",
    "feature_mapper_ext.build_features()\n",
    "\n",
    "sp = spc.StructuredPerceptron(corpus.word_dict, corpus.tag_dict, feature_mapper_ext)\n",
    "sp.load_model(dir=\"../fitted_models/perceptron_5_iter_extra\")"
   ]
  },
  {
   "cell_type": "code",
   "execution_count": 36,
   "id": "544166ef-65dc-4dec-ae98-729554d8cb6e",
   "metadata": {},
   "outputs": [],
   "source": [
    "pred_tiny_test  = sp.viterbi_decode_corpus(tiny_test_seq)"
   ]
  },
  {
   "cell_type": "code",
   "execution_count": 37,
   "id": "3fcada7f",
   "metadata": {},
   "outputs": [],
   "source": [
    "acc, f1 = Evaluate_metrics(tiny_test_seq.seq_list, pred_tiny_test, corpus)\n",
    "tiny_test_metrics['Accuracy'].append(acc)\n",
    "tiny_test_metrics['F1'].append(f1)\n",
    "names.append('SP-extra')"
   ]
  },
  {
   "cell_type": "code",
   "execution_count": 38,
   "id": "66010584-fb1a-41d7-92c0-1a7700cdba81",
   "metadata": {},
   "outputs": [
    {
     "name": "stdout",
     "output_type": "stream",
     "text": [
      "The/O programmers/O from/O Barcelona/B-org might/O write/O a/O sentence/O without/O a/O spell/O checker/O ./O \n",
      "The/O programmers/O from/O Barchelona/B-org cannot/O write/O a/O sentence/O without/O a/O spell/O checker/O ./O \n",
      "Jack/B-per London/B-geo went/O to/O Parris/B-per ./O \n",
      "Jack/B-per London/B-geo went/O to/O Paris/B-geo ./O \n",
      "Bill/B-per gates/O and/O Steve/B-per jobs/O never/O thought/O Microsoft/B-org would/O become/O such/O a/O big/O company/O ./O \n",
      "Bill/B-per Gates/I-per and/O Steve/B-per Jobs/I-per never/O thought/O Microsoft/B-org would/O become/O such/O a/O big/O company/O ./O \n",
      "The/O president/O of/O U.S.A/B-per thought/O they/O could/O win/O the/O war/O ./O \n",
      "The/O president/O of/O the/O United/B-org States/I-org of/I-org America/I-org thought/O they/O could/O win/O the/O war/O ./O \n",
      "The/O king/O of/O Saudi/B-per Arabia/I-per wanted/O total/O control/O ./O \n",
      "Robin/B-per does/O not/O want/O to/O go/O to/O Saudi/B-per Arabia/I-per ./O \n",
      "Apple/B-per is/O a/O great/O company/O ./O \n",
      "I/O really/O love/O apples/O and/O oranges/O ./O \n",
      "\n"
     ]
    }
   ],
   "source": [
    "print(decode_pred(pred_tiny_test, corpus))"
   ]
  },
  {
   "attachments": {},
   "cell_type": "markdown",
   "id": "f294a7e9",
   "metadata": {},
   "source": [
    "## Deep Learning Approach"
   ]
  },
  {
   "cell_type": "markdown",
   "id": "1ec99fb3",
   "metadata": {},
   "source": []
  }
 ],
 "metadata": {
  "kernelspec": {
   "display_name": "Python 3 (ipykernel)",
   "language": "python",
   "name": "python3"
  },
  "language_info": {
   "codemirror_mode": {
    "name": "ipython",
    "version": 3
   },
   "file_extension": ".py",
   "mimetype": "text/x-python",
   "name": "python",
   "nbconvert_exporter": "python",
   "pygments_lexer": "ipython3",
   "version": "3.10.14"
  }
 },
 "nbformat": 4,
 "nbformat_minor": 5
}
