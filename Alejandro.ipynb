{
 "cells": [
  {
   "cell_type": "code",
   "execution_count": 1,
   "id": "337678b8-d1f5-499c-8ccc-6a60e361c9d6",
   "metadata": {},
   "outputs": [],
   "source": [
    "%matplotlib inline\n",
    "%load_ext autoreload\n",
    "%autoreload 2"
   ]
  },
  {
   "cell_type": "code",
   "execution_count": 3,
   "id": "9e73a648-bff1-4774-9ac8-65c5aa4f0d3b",
   "metadata": {},
   "outputs": [],
   "source": [
    "from pathlib import Path\n",
    "import scipy\n",
    "import numpy as np\n",
    "import os,sys\n",
    "\n",
    "currentdir = Path.cwd()\n",
    "sys.path.insert(0,str(currentdir)+'\\\\utils') \n",
    "import skseq.sequences.structured_perceptron as spc\n",
    "import skseq"
   ]
  },
  {
   "cell_type": "markdown",
   "id": "6b95a679-89ff-4eba-bd1f-ab0a0333efee",
   "metadata": {},
   "source": [
    "# Reproduce structured perceptron with our data"
   ]
  },
  {
   "cell_type": "code",
   "execution_count": 4,
   "id": "f794c423-ab4d-4667-a173-139829f0bb72",
   "metadata": {},
   "outputs": [],
   "source": [
    "from utils import *\n",
    "corpus = NerCorpus()"
   ]
  },
  {
   "cell_type": "markdown",
   "id": "c3e7691c-5c76-4adb-a590-97fe15c48d8e",
   "metadata": {},
   "source": [
    "Load data and fill corpus."
   ]
  },
  {
   "cell_type": "code",
   "execution_count": 5,
   "id": "45b558d4-bd7c-4072-bd04-15327d134e84",
   "metadata": {},
   "outputs": [],
   "source": [
    "data_path = \"./data\"\n",
    "\n",
    "#data_path = parentdir + data_path\n",
    "\n",
    "train_seq = corpus.read_sequence_list(data_path + \"/train_data_ner.csv\", \n",
    "                                            max_sent_len=100)\n",
    "\n",
    "test_seq = corpus.read_sequence_list(data_path + \"/test_data_ner.csv\",\n",
    "                                           max_sent_len=100)\n",
    "\n",
    "tiny_test_seq = corpus.read_sequence_list(data_path + \"/tiny_test.csv\", \n",
    "                                          max_sent_len=100)"
   ]
  },
  {
   "cell_type": "markdown",
   "id": "859ef726-ab49-4243-ae38-fdd53276850a",
   "metadata": {},
   "source": [
    "Create featrue mapper object."
   ]
  },
  {
   "cell_type": "code",
   "execution_count": 17,
   "id": "c4a2877e-a43b-4768-9ff4-8d4bb98cccc2",
   "metadata": {},
   "outputs": [],
   "source": [
    "feature_mapper = skseq.sequences.id_feature.IDFeatures(train_seq)\n",
    "feature_mapper.build_features()"
   ]
  },
  {
   "cell_type": "markdown",
   "id": "01a060e6-7b14-424f-bc61-58de74af1d5b",
   "metadata": {},
   "source": [
    "Import structured perceptron"
   ]
  },
  {
   "cell_type": "code",
   "execution_count": 18,
   "id": "0598a279-7c30-41b1-9985-4222933fbb6c",
   "metadata": {},
   "outputs": [],
   "source": [
    "import skseq.sequences.structured_perceptron as spc\n",
    "\n",
    "sp = spc.StructuredPerceptron(corpus.word_dict, corpus.tag_dict, feature_mapper)\n",
    "sp.num_epochs = 5"
   ]
  },
  {
   "cell_type": "code",
   "execution_count": 20,
   "id": "7df6f090-2874-4ed0-8b44-b76f48d27a97",
   "metadata": {},
   "outputs": [
    {
     "data": {
      "text/plain": [
       "(17, 54895)"
      ]
     },
     "execution_count": 20,
     "metadata": {},
     "output_type": "execute_result"
    }
   ],
   "source": [
    "sp.get_num_states(), sp.get_num_observations()"
   ]
  },
  {
   "cell_type": "code",
   "execution_count": 21,
   "id": "b24ce879-82ee-4fb7-94cb-e0aa28e9e4d4",
   "metadata": {},
   "outputs": [
    {
     "data": {
      "text/plain": [
       "39579"
      ]
     },
     "execution_count": 21,
     "metadata": {},
     "output_type": "execute_result"
    }
   ],
   "source": [
    "feature_mapper.get_num_features()"
   ]
  },
  {
   "cell_type": "markdown",
   "id": "a795ba63-3fa9-4dc1-b33a-7e9a4968e587",
   "metadata": {},
   "source": [
    "Train strcuture perceptron? (No me queda claro si está del todo bien probadlo pls)"
   ]
  },
  {
   "cell_type": "code",
   "execution_count": 39,
   "id": "cae556b8-3ca8-4f22-9d39-cc4e9c78d949",
   "metadata": {},
   "outputs": [
    {
     "name": "stdout",
     "output_type": "stream",
     "text": [
      "Epoch: 0 Accuracy: 0.953578\n",
      "Epoch: 1 Accuracy: 0.955062\n",
      "Epoch: 2 Accuracy: 0.956796\n",
      "Epoch: 3 Accuracy: 0.957577\n",
      "CPU times: total: 1h 4min 28s\n",
      "Wall time: 1h 6min 15s\n"
     ]
    }
   ],
   "source": [
    "%%time\n",
    "num_epochs = 4\n",
    "sp.fit(feature_mapper.dataset, num_epochs)"
   ]
  },
  {
   "cell_type": "code",
   "execution_count": 40,
   "id": "52da648e-d890-4b60-b228-ba52036ef7b4",
   "metadata": {},
   "outputs": [],
   "source": [
    "# Make predictions for the various sequences using the trained model.\n",
    "pred_tiny_test  = sp.viterbi_decode_corpus(tiny_test_seq)"
   ]
  },
  {
   "cell_type": "code",
   "execution_count": 41,
   "id": "5e052f0a-e265-44de-b5ce-79aaf5f8326b",
   "metadata": {},
   "outputs": [
    {
     "name": "stdout",
     "output_type": "stream",
     "text": [
      "SP -  Accuracy Tiny Test: 0.865\n"
     ]
    }
   ],
   "source": [
    "# Evaluate and print accuracies\n",
    "eval_test = evaluate_corpus(tiny_test_seq.seq_list, pred_tiny_test)\n",
    "print(\"SP -  Accuracy Tiny Test: %.3f\"%(eval_test))"
   ]
  },
  {
   "cell_type": "markdown",
   "id": "1290cdeb-de0c-4e84-8fed-0a78dfb72bd5",
   "metadata": {},
   "source": [
    "# F1 score, Metrcis"
   ]
  },
  {
   "cell_type": "code",
   "execution_count": 37,
   "id": "b03b1e0c-1b12-432a-ba04-9ca943f35fe3",
   "metadata": {},
   "outputs": [],
   "source": [
    "from skseq.sequences.confusion_matrix import *"
   ]
  },
  {
   "cell_type": "code",
   "execution_count": null,
   "id": "debd1d7d-1edb-4584-af2a-c2bce8cad10a",
   "metadata": {},
   "outputs": [],
   "source": [
    "tag_colors ={'O': 'Fuchsia',\n",
    "             'B-geo': 'ForestGreen',\n",
    "             'B-gpe': 'Blue',\n",
    "             'B-tim': 'DarkGreen',\n",
    "             'B-org': 'Khaki',\n",
    "             'I-geo': 'Black',\n",
    "             'B-per': 'LightGrey',\n",
    "             'I-per': 'GreenYellow',\n",
    "             'I-org': 'DarkGray',\n",
    "             'B-art': 'Indigo',\n",
    "             'I-art': 'DarkSeaGreen',\n",
    "             'I-tim': 'Red',\n",
    "             'I-gpe': '',\n",
    "             'B-nat': '',\n",
    "             'I-nat': '',\n",
    "             'B-eve': '',\n",
    "             'I-eve': ''}"
   ]
  },
  {
   "cell_type": "code",
   "execution_count": 34,
   "id": "44c14878-2787-4974-b5e4-f0632cdc4f42",
   "metadata": {},
   "outputs": [
    {
     "data": {
      "text/plain": [
       "{'O': 0,\n",
       " 'B-geo': 1,\n",
       " 'B-gpe': 2,\n",
       " 'B-tim': 3,\n",
       " 'B-org': 4,\n",
       " 'I-geo': 5,\n",
       " 'B-per': 6,\n",
       " 'I-per': 7,\n",
       " 'I-org': 8,\n",
       " 'B-art': 9,\n",
       " 'I-art': 10,\n",
       " 'I-tim': 11,\n",
       " 'I-gpe': 12,\n",
       " 'B-nat': 13,\n",
       " 'I-nat': 14,\n",
       " 'B-eve': 15,\n",
       " 'I-eve': 16}"
      ]
     },
     "execution_count": 34,
     "metadata": {},
     "output_type": "execute_result"
    }
   ],
   "source": [
    "corpus.tag_dict"
   ]
  },
  {
   "cell_type": "code",
   "execution_count": 8,
   "id": "ff336c1e-27d0-4f9c-8d97-3ece33b3b9d0",
   "metadata": {},
   "outputs": [],
   "source": [
    "from sklearn.metrics import f1_score\n",
    "from sklearn.metrics import accuracy_score\n",
    "\n",
    "def Evaluate_metrics(sequences, sequences_predictions, corpus):\n",
    "    '''\n",
    "        Returns ACC. and F1 with the requested requieremetns.\n",
    "    '''\n",
    "    def f1(y_true, y_pred):\n",
    "        return f1_score(y_true, y_pred, average='weighted')\n",
    "\n",
    "    y_true = np.concatenate([np.array(sequences[s].y) for s in range(len(sequences))])\n",
    "    y_pred = np.concatenate([sequences_predictions[s].y for s in range(len(sequences_predictions))])\n",
    "    \n",
    "    mask = y_true!= corpus.tag_dict['O']\n",
    "    y_pred_f = y_pred[mask]\n",
    "    y_true_f = y_true[mask]\n",
    "    # Acc. ignoring 'O', weighted f1, \n",
    "    return accuracy_score(y_true_f, y_pred_f), f1(y_true, y_pred)"
   ]
  },
  {
   "cell_type": "code",
   "execution_count": 122,
   "id": "1d3193f2-1a0b-4414-a991-f9e700618c12",
   "metadata": {},
   "outputs": [
    {
     "data": {
      "text/plain": [
       "(0.41379310344827586, 0.8423139558853844)"
      ]
     },
     "execution_count": 122,
     "metadata": {},
     "output_type": "execute_result"
    }
   ],
   "source": [
    "Evaluate_metrics(tiny_test_seq.seq_list, pred_tiny_test, corpus)"
   ]
  },
  {
   "cell_type": "markdown",
   "id": "892209b7-ba83-44a8-853e-b5613e73a52e",
   "metadata": {},
   "source": [
    "# Adding features"
   ]
  },
  {
   "cell_type": "code",
   "execution_count": 6,
   "id": "ac1b6f52-6c8a-4db6-a55e-29fef9eb9157",
   "metadata": {},
   "outputs": [],
   "source": [
    "from skseq.sequences.extended_features import *\n",
    "\n",
    "feature_mapper_ext = Extended_Features(train_seq)\n",
    "feature_mapper_ext.build_features()"
   ]
  },
  {
   "cell_type": "code",
   "execution_count": 7,
   "id": "a24fe69b-6e8d-4881-9f0b-ffd5486c0da7",
   "metadata": {
    "scrolled": true
   },
   "outputs": [
    {
     "name": "stdout",
     "output_type": "stream",
     "text": [
      "Initial features\n",
      "\t [0]\n",
      "\t\t init_tag:O\n",
      "\n",
      "\n",
      "Transition features\n",
      "\t [22]\n",
      "\t\t prev_tag:O::B-geo\n",
      "\t [25]\n",
      "\t\t prev_tag:B-geo::O\n",
      "\t [10]\n",
      "\t\t prev_tag:O::O\n",
      "\t [10]\n",
      "\t\t prev_tag:O::O\n",
      "\t [10]\n",
      "\t\t prev_tag:O::O\n",
      "\t [10]\n",
      "\t\t prev_tag:O::O\n",
      "\t [10]\n",
      "\t\t prev_tag:O::O\n",
      "\t [10]\n",
      "\t\t prev_tag:O::O\n",
      "\t [10]\n",
      "\t\t prev_tag:O::O\n",
      "\t [10]\n",
      "\t\t prev_tag:O::O\n",
      "\t [10]\n",
      "\t\t prev_tag:O::O\n",
      "\t [10]\n",
      "\t\t prev_tag:O::O\n",
      "\t [10]\n",
      "\t\t prev_tag:O::O\n",
      "\t [77]\n",
      "\t\t prev_tag:O::B-org\n",
      "\t [225]\n",
      "\t\t prev_tag:B-org::I-org\n",
      "\t [227]\n",
      "\t\t prev_tag:I-org::O\n",
      "\t [10]\n",
      "\t\t prev_tag:O::O\n",
      "\t [22]\n",
      "\t\t prev_tag:O::B-geo\n",
      "\t [95]\n",
      "\t\t prev_tag:B-geo::I-geo\n",
      "\t [96]\n",
      "\t\t prev_tag:I-geo::O\n",
      "\t [120]\n",
      "\t\t prev_tag:O::B-per\n",
      "\t [235]\n",
      "\t\t prev_tag:B-per::O\n",
      "\t [120]\n",
      "\t\t prev_tag:O::B-per\n",
      "\t [125]\n",
      "\t\t prev_tag:B-per::I-per\n",
      "\t [127]\n",
      "\t\t prev_tag:I-per::O\n",
      "\t [10]\n",
      "\t\t prev_tag:O::O\n",
      "\t [42]\n",
      "\t\t prev_tag:O::B-gpe\n",
      "\t [44]\n",
      "\t\t prev_tag:B-gpe::O\n",
      "\t [10]\n",
      "\t\t prev_tag:O::O\n",
      "\t [10]\n",
      "\t\t prev_tag:O::O\n",
      "\t [10]\n",
      "\t\t prev_tag:O::O\n",
      "\t [10]\n",
      "\t\t prev_tag:O::O\n",
      "\t [10]\n",
      "\t\t prev_tag:O::O\n",
      "\t [10]\n",
      "\t\t prev_tag:O::O\n",
      "\t [10]\n",
      "\t\t prev_tag:O::O\n",
      "\t [10]\n",
      "\t\t prev_tag:O::O\n",
      "\t [10]\n",
      "\t\t prev_tag:O::O\n",
      "\t [10]\n",
      "\t\t prev_tag:O::O\n",
      "\t [10]\n",
      "\t\t prev_tag:O::O\n",
      "\n",
      "\n",
      "Final features\n",
      "\t [52]\n",
      "\t\t final_prev_tag:O\n",
      "\n",
      "\n",
      "Emission features\n",
      "\t [211, 2, 7, 24, 8, 4]\n",
      "\t\t id:In::O\n",
      "\t\t is_title::O\n",
      "\t\t is_stopword::O\n",
      "\t\t is_preposition::O\n",
      "\t\t word_length:2::O\n",
      "\t\t position:beginning::O\n",
      "\t [203, 19, 20, 21]\n",
      "\t\t id:Beirut::B-geo\n",
      "\t\t is_title::B-geo\n",
      "\t\t word_length:6::B-geo\n",
      "\t\t position:middle::B-geo\n",
      "\t [69, 49, 50, 9]\n",
      "\t\t id:,::O\n",
      "\t\t contains_punctuation::O\n",
      "\t\t word_length:1::O\n",
      "\t\t position:middle::O\n",
      "\t [100, 6, 7, 50, 9]\n",
      "\t\t id:a::O\n",
      "\t\t is_lower::O\n",
      "\t\t is_stopword::O\n",
      "\t\t word_length:1::O\n",
      "\t\t position:middle::O\n",
      "\t [212, 6, 35, 9]\n",
      "\t\t id:string::O\n",
      "\t\t is_lower::O\n",
      "\t\t word_length:6::O\n",
      "\t\t position:middle::O\n",
      "\t [5, 6, 7, 8, 9]\n",
      "\t\t id:of::O\n",
      "\t\t is_lower::O\n",
      "\t\t is_stopword::O\n",
      "\t\t word_length:2::O\n",
      "\t\t position:middle::O\n",
      "\t [213, 6, 3, 9]\n",
      "\t\t id:officials::O\n",
      "\t\t is_lower::O\n",
      "\t\t word_length:9::O\n",
      "\t\t position:middle::O\n",
      "\t [214, 6, 35, 9]\n",
      "\t\t id:voiced::O\n",
      "\t\t is_lower::O\n",
      "\t\t word_length:6::O\n",
      "\t\t position:middle::O\n",
      "\t [215, 6, 7, 71, 9]\n",
      "\t\t id:their::O\n",
      "\t\t is_lower::O\n",
      "\t\t is_stopword::O\n",
      "\t\t word_length:5::O\n",
      "\t\t position:middle::O\n",
      "\t [216, 6, 71, 9]\n",
      "\t\t id:anger::O\n",
      "\t\t is_lower::O\n",
      "\t\t word_length:5::O\n",
      "\t\t position:middle::O\n",
      "\t [69, 49, 50, 9]\n",
      "\t\t id:,::O\n",
      "\t\t contains_punctuation::O\n",
      "\t\t word_length:1::O\n",
      "\t\t position:middle::O\n",
      "\t [217, 6, 7, 71, 9]\n",
      "\t\t id:while::O\n",
      "\t\t is_lower::O\n",
      "\t\t is_stopword::O\n",
      "\t\t word_length:5::O\n",
      "\t\t position:middle::O\n",
      "\t [218, 6, 7, 24, 8, 9]\n",
      "\t\t id:at::O\n",
      "\t\t is_lower::O\n",
      "\t\t is_stopword::O\n",
      "\t\t is_preposition::O\n",
      "\t\t word_length:2::O\n",
      "\t\t position:middle::O\n",
      "\t [27, 6, 7, 28, 9]\n",
      "\t\t id:the::O\n",
      "\t\t is_lower::O\n",
      "\t\t is_stopword::O\n",
      "\t\t word_length:3::O\n",
      "\t\t position:middle::O\n",
      "\t [219, 74, 220, 76]\n",
      "\t\t id:United::B-org\n",
      "\t\t is_title::B-org\n",
      "\t\t word_length:6::B-org\n",
      "\t\t position:middle::B-org\n",
      "\t [221, 222, 223, 224]\n",
      "\t\t id:Nations::I-org\n",
      "\t\t is_title::I-org\n",
      "\t\t word_length:7::I-org\n",
      "\t\t position:middle::I-org\n",
      "\t [226, 6, 35, 9]\n",
      "\t\t id:summit::O\n",
      "\t\t is_lower::O\n",
      "\t\t word_length:6::O\n",
      "\t\t position:middle::O\n",
      "\t [30, 6, 7, 24, 8, 9]\n",
      "\t\t id:in::O\n",
      "\t\t is_lower::O\n",
      "\t\t is_stopword::O\n",
      "\t\t is_preposition::O\n",
      "\t\t word_length:2::O\n",
      "\t\t position:middle::O\n",
      "\t [228, 19, 229, 21]\n",
      "\t\t id:New::B-geo\n",
      "\t\t is_title::B-geo\n",
      "\t\t word_length:3::B-geo\n",
      "\t\t position:middle::B-geo\n",
      "\t [230, 92, 231, 94]\n",
      "\t\t id:York::I-geo\n",
      "\t\t is_title::I-geo\n",
      "\t\t word_length:4::I-geo\n",
      "\t\t position:middle::I-geo\n",
      "\t [69, 49, 50, 9]\n",
      "\t\t id:,::O\n",
      "\t\t contains_punctuation::O\n",
      "\t\t word_length:1::O\n",
      "\t\t position:middle::O\n",
      "\t [232, 117, 233, 119]\n",
      "\t\t id:Prime::B-per\n",
      "\t\t is_title::B-per\n",
      "\t\t word_length:5::B-per\n",
      "\t\t position:middle::B-per\n",
      "\t [234, 2, 55, 9]\n",
      "\t\t id:Minister::O\n",
      "\t\t is_title::O\n",
      "\t\t word_length:8::O\n",
      "\t\t position:middle::O\n",
      "\t [236, 117, 233, 119]\n",
      "\t\t id:Fouad::B-per\n",
      "\t\t is_title::B-per\n",
      "\t\t word_length:5::B-per\n",
      "\t\t position:middle::B-per\n",
      "\t [237, 122, 123, 124]\n",
      "\t\t id:Siniora::I-per\n",
      "\t\t is_title::I-per\n",
      "\t\t word_length:7::I-per\n",
      "\t\t position:middle::I-per\n",
      "\t [126, 6, 14, 9]\n",
      "\t\t id:said::O\n",
      "\t\t is_lower::O\n",
      "\t\t word_length:4::O\n",
      "\t\t position:middle::O\n",
      "\t [27, 6, 7, 28, 9]\n",
      "\t\t id:the::O\n",
      "\t\t is_lower::O\n",
      "\t\t is_stopword::O\n",
      "\t\t word_length:3::O\n",
      "\t\t position:middle::O\n",
      "\t [192, 39, 193, 41]\n",
      "\t\t id:Lebanese::B-gpe\n",
      "\t\t is_title::B-gpe\n",
      "\t\t word_length:8::B-gpe\n",
      "\t\t position:middle::B-gpe\n",
      "\t [158, 6, 35, 9]\n",
      "\t\t id:people::O\n",
      "\t\t is_lower::O\n",
      "\t\t word_length:6::O\n",
      "\t\t position:middle::O\n",
      "\t [80, 6, 7, 28, 9]\n",
      "\t\t id:are::O\n",
      "\t\t is_lower::O\n",
      "\t\t is_stopword::O\n",
      "\t\t word_length:3::O\n",
      "\t\t position:middle::O\n",
      "\t [238, 6, 55, 9]\n",
      "\t\t id:resolute::O\n",
      "\t\t is_lower::O\n",
      "\t\t word_length:8::O\n",
      "\t\t position:middle::O\n",
      "\t [30, 6, 7, 24, 8, 9]\n",
      "\t\t id:in::O\n",
      "\t\t is_lower::O\n",
      "\t\t is_stopword::O\n",
      "\t\t is_preposition::O\n",
      "\t\t word_length:2::O\n",
      "\t\t position:middle::O\n",
      "\t [239, 6, 37, 9]\n",
      "\t\t id:preventing::O\n",
      "\t\t is_lower::O\n",
      "\t\t word_length:10::O\n",
      "\t\t position:middle::O\n",
      "\t [240, 6, 7, 14, 9]\n",
      "\t\t id:such::O\n",
      "\t\t is_lower::O\n",
      "\t\t is_stopword::O\n",
      "\t\t word_length:4::O\n",
      "\t\t position:middle::O\n",
      "\t [241, 6, 55, 9]\n",
      "\t\t id:attempts::O\n",
      "\t\t is_lower::O\n",
      "\t\t word_length:8::O\n",
      "\t\t position:middle::O\n",
      "\t [45, 6, 7, 14, 9]\n",
      "\t\t id:from::O\n",
      "\t\t is_lower::O\n",
      "\t\t is_stopword::O\n",
      "\t\t word_length:4::O\n",
      "\t\t position:middle::O\n",
      "\t [242, 6, 37, 9]\n",
      "\t\t id:destroying::O\n",
      "\t\t is_lower::O\n",
      "\t\t word_length:10::O\n",
      "\t\t position:middle::O\n",
      "\t [215, 6, 7, 71, 9]\n",
      "\t\t id:their::O\n",
      "\t\t is_lower::O\n",
      "\t\t is_stopword::O\n",
      "\t\t word_length:5::O\n",
      "\t\t position:middle::O\n",
      "\t [243, 6, 35, 9]\n",
      "\t\t id:spirit::O\n",
      "\t\t is_lower::O\n",
      "\t\t word_length:6::O\n",
      "\t\t position:middle::O\n",
      "\t [48, 49, 50, 51]\n",
      "\t\t id:.::O\n",
      "\t\t contains_punctuation::O\n",
      "\t\t word_length:1::O\n",
      "\t\t position:end::O\n",
      "\n",
      "\n"
     ]
    }
   ],
   "source": [
    "id_seq = 8\n",
    "seq = train_seq[id_seq]\n",
    "inv_feature_dict = {word: pos for pos, word in feature_mapper_ext.feature_dict.items()}\n",
    "feature_type = [\"Initial features\", \"Transition features\", \"Final features\", \"Emission features\"]\n",
    "\n",
    "def show_feats(feature_mapper, seq):\n",
    "    for feat,feat_ids in enumerate(feature_mapper.get_sequence_features(seq)):\n",
    "        print(feature_type[feat])\n",
    "        for id_list in feat_ids:\n",
    "            print (\"\\t\",id_list)\n",
    "            for k,id_val in enumerate(id_list):\n",
    "                print (\"\\t\\t\", inv_feature_dict[id_val] )\n",
    "        print(\"\\n\")\n",
    "\n",
    "show_feats(feature_mapper_ext, seq)"
   ]
  },
  {
   "cell_type": "code",
   "execution_count": 13,
   "id": "23b6defe-b800-483a-aeeb-31541227c699",
   "metadata": {},
   "outputs": [
    {
     "data": {
      "text/plain": [
       "40008"
      ]
     },
     "execution_count": 13,
     "metadata": {},
     "output_type": "execute_result"
    }
   ],
   "source": [
    "feature_mapper_ext.get_num_features()"
   ]
  },
  {
   "cell_type": "code",
   "execution_count": 15,
   "id": "e66dc12e-16a6-483c-8996-323011e3cf0e",
   "metadata": {},
   "outputs": [
    {
     "name": "stdout",
     "output_type": "stream",
     "text": [
      "Epoch: 0 Accuracy: 0.929694\n",
      "Epoch: 1 Accuracy: 0.943821\n"
     ]
    }
   ],
   "source": [
    "import skseq.sequences.structured_perceptron as spc\n",
    "\n",
    "sp = spc.StructuredPerceptron(corpus.word_dict, corpus.tag_dict, feature_mapper_ext)\n",
    "sp.num_epochs = 2\n",
    "num_epochs = 2\n",
    "sp.fit(feature_mapper_ext.dataset, num_epochs)"
   ]
  },
  {
   "cell_type": "markdown",
   "id": "7f6eafad-7f5a-4f0f-b2dc-d59f6bf544eb",
   "metadata": {},
   "source": [
    "## Confsuion matrix"
   ]
  },
  {
   "cell_type": "code",
   "execution_count": 7,
   "id": "c2f87329-1f52-4339-8c57-2705fc546849",
   "metadata": {},
   "outputs": [],
   "source": [
    "feature_mapper = skseq.sequences.id_feature.IDFeatures(train_seq)\n",
    "feature_mapper.build_features()\n",
    "\n",
    "sp = spc.StructuredPerceptron(corpus.word_dict, corpus.tag_dict, feature_mapper)\n",
    "sp.load_model(dir=\"./fitted_models/perceptron_5_iter_given\")"
   ]
  },
  {
   "cell_type": "code",
   "execution_count": 8,
   "id": "9ea0e0e8-3ef5-473a-a0a0-26670e1593a2",
   "metadata": {},
   "outputs": [],
   "source": [
    "#pred_train = sp.viterbi_decode_corpus(train_seq)\n",
    "#pred_test  = sp.viterbi_decode_corpus(test_seq)\n",
    "pred_tiny_test  = sp.viterbi_decode_corpus(tiny_test_seq)"
   ]
  },
  {
   "cell_type": "code",
   "execution_count": 30,
   "id": "9f5d78e8-33d5-4ec2-b82e-228d00e3e174",
   "metadata": {},
   "outputs": [
    {
     "name": "stderr",
     "output_type": "stream",
     "text": [
      "C:\\Users\\Alejandro\\AppData\\Local\\Temp\\ipykernel_440\\2203077748.py:25: UserWarning: set_ticklabels() should only be used with a fixed number of ticks, i.e. after set_ticks() or using a FixedLocator.\n",
      "  ax.set_xticklabels([''] + list(class_names), rotation=45)\n",
      "C:\\Users\\Alejandro\\AppData\\Local\\Temp\\ipykernel_440\\2203077748.py:26: UserWarning: set_ticklabels() should only be used with a fixed number of ticks, i.e. after set_ticks() or using a FixedLocator.\n",
      "  ax.set_yticklabels([''] + list(class_names))\n"
     ]
    },
    {
     "data": {
      "image/png": "[encoded data removed]",
      "text/plain": [
       "<Figure size 1000x700 with 2 Axes>"
      ]
     },
     "metadata": {},
     "output_type": "display_data"
    },
    {
     "data": {
      "text/plain": [
       "(0.5517241379310345, 0.8874678760393045)"
      ]
     },
     "execution_count": 30,
     "metadata": {},
     "output_type": "execute_result"
    }
   ],
   "source": [
    "def Evaluate_metrics(sequences, sequences_predictions, corpus, save=False, plotname=None):\n",
    "    '''\n",
    "        Returns ACC. and F1 with the requested requieremetns.\n",
    "    '''\n",
    "    def f1(y_true, y_pred):\n",
    "        return f1_score(y_true, y_pred, average='weighted')\n",
    "\n",
    "    y_true = np.concatenate([np.array(sequences[s].y) for s in range(len(sequences))])\n",
    "    y_pred = np.concatenate([sequences_predictions[s].y for s in range(len(sequences_predictions))])\n",
    "    \n",
    "    mask = y_true!= corpus.tag_dict['O']\n",
    "    y_pred_f = y_pred[mask]\n",
    "    y_true_f = y_true[mask]\n",
    "\n",
    "    cm = confusion_matrix(y_true, y_pred)\n",
    "\n",
    "    # Plot the confusion matrix using Matplotlib\n",
    "    fig, ax = plt.subplots(figsize=(10, 7))\n",
    "    cax = ax.matshow(cm, cmap=plt.cm.Blues)\n",
    "    plt.title('Confusion Matrix', pad=20)\n",
    "    fig.colorbar(cax)\n",
    "    \n",
    "    # Set axes labels and tick marks\n",
    "    class_names  = np.array(list(corpus.tag_dict.keys()))[list(set(y_pred) | set(y_true))]\n",
    "    ax.set_xticklabels([''] + list(class_names), rotation=45)\n",
    "    ax.set_yticklabels([''] + list(class_names))\n",
    "    \n",
    "    plt.xlabel('Predicted')\n",
    "    plt.ylabel('True')\n",
    "    \n",
    "    # Annotate each cell in the matrix with the numeric value\n",
    "    for i in range(cm.shape[0]):\n",
    "        for j in range(cm.shape[1]):\n",
    "            plt.text(j, i, format(cm[i, j], 'd'),\n",
    "                     ha=\"center\", va=\"center\",\n",
    "                     color=\"white\" if cm[i, j] > cm.max() / 2 else \"black\")\n",
    "    if save:\n",
    "        plt.savefig(plotname)    \n",
    "    plt.show()\n",
    "    \n",
    "    # Acc. ignoring 'O', weighted f1, \n",
    "    return accuracy_score(y_true_f, y_pred_f), f1(y_true, y_pred)\n",
    "\n",
    "Evaluate_metrics(tiny_test_seq.seq_list, pred_tiny_test, corpus)"
   ]
  },
  {
   "cell_type": "code",
   "execution_count": null,
   "id": "7f399f7b-eb40-48a8-bdcf-e9c339ec3d82",
   "metadata": {},
   "outputs": [],
   "source": []
  }
 ],
 "metadata": {
  "kernelspec": {
   "display_name": "Python 3 (ipykernel)",
   "language": "python",
   "name": "python3"
  },
  "language_info": {
   "codemirror_mode": {
    "name": "ipython",
    "version": 3
   },
   "file_extension": ".py",
   "mimetype": "text/x-python",
   "name": "python",
   "nbconvert_exporter": "python",
   "pygments_lexer": "ipython3",
   "version": "3.10.14"
  }
 },
 "nbformat": 4,
 "nbformat_minor": 5
}
