{
 "cells": [
  {
   "cell_type": "code",
   "execution_count": 1,
   "id": "10ab9f57-463d-4153-b8a8-43d569c8747a",
   "metadata": {},
   "outputs": [],
   "source": [
    "%matplotlib inline\n",
    "%load_ext autoreload\n",
    "%autoreload 2\n",
    "\n",
    "from pathlib import Path\n",
    "import scipy\n",
    "import numpy as np\n",
    "import os,sys\n",
    "\n",
    "currentdir = Path.cwd()\n",
    "sys.path.insert(0,str(currentdir)+'\\\\utils') \n",
    "import skseq\n",
    "import skseq.sequences.structured_perceptron as spc\n",
    "from utils import *"
   ]
  },
  {
   "attachments": {},
   "cell_type": "markdown",
   "id": "0204e8c6",
   "metadata": {},
   "source": [
    "This notebook containins all the code required to train the models and store them in fitted model folder."
   ]
  },
  {
   "attachments": {},
   "cell_type": "markdown",
   "id": "63be5430",
   "metadata": {},
   "source": [
    "## Loading Data"
   ]
  },
  {
   "cell_type": "code",
   "execution_count": 2,
   "id": "d7b51304",
   "metadata": {},
   "outputs": [],
   "source": [
    "corpus = NerCorpus()"
   ]
  },
  {
   "cell_type": "code",
   "execution_count": 3,
   "id": "0f3b7082-a6dc-4652-b1c0-b8fdba39a019",
   "metadata": {},
   "outputs": [],
   "source": [
    "data_path = \"./data\"\n",
    "\n",
    "#data_path = parentdir + data_path\n",
    "\n",
    "train_seq = corpus.read_sequence_list(data_path + \"/train_data_ner.csv\", \n",
    "                                            max_sent_len=100)"
   ]
  },
  {
   "attachments": {},
   "cell_type": "markdown",
   "id": "2ec4d8a1",
   "metadata": {},
   "source": [
    "## Structure Perceptron"
   ]
  },
  {
   "attachments": {},
   "cell_type": "markdown",
   "id": "3dac0fa0",
   "metadata": {},
   "source": [
    "### Structure Perceptron w/ given features"
   ]
  },
  {
   "cell_type": "code",
   "execution_count": 4,
   "id": "561e90b5-e280-4214-9d75-70b5a12ad0b0",
   "metadata": {},
   "outputs": [],
   "source": [
    "feature_mapper = skseq.sequences.id_feature.IDFeatures(train_seq)\n",
    "feature_mapper.build_features()"
   ]
  },
  {
   "cell_type": "code",
   "execution_count": 5,
   "id": "7eb9de11-3e4c-4c43-9c2f-8884c68482dc",
   "metadata": {},
   "outputs": [
    {
     "name": "stdout",
     "output_type": "stream",
     "text": [
      "Epoch: 0 Accuracy: 0.893766\n",
      "Epoch: 1 Accuracy: 0.931943\n",
      "Epoch: 2 Accuracy: 0.941427\n",
      "Epoch: 3 Accuracy: 0.946285\n",
      "Epoch: 4 Accuracy: 0.949950\n"
     ]
    }
   ],
   "source": [
    "sp = spc.StructuredPerceptron(corpus.word_dict, corpus.tag_dict, feature_mapper)\n",
    "sp.num_epochs = 5\n",
    "num_epochs = 5\n",
    "sp.fit(feature_mapper.dataset, num_epochs)"
   ]
  },
  {
   "cell_type": "code",
   "execution_count": 6,
   "id": "370fb75b-64b2-42fe-b7dc-bdd78ec57e5a",
   "metadata": {},
   "outputs": [],
   "source": [
    "sp.save_model(\"./fitted_models/perceptron_5_iter_given\")"
   ]
  },
  {
   "attachments": {},
   "cell_type": "markdown",
   "id": "89db4477",
   "metadata": {},
   "source": [
    "### Structure Perceptron w/ extra features"
   ]
  },
  {
   "cell_type": "code",
   "execution_count": 4,
   "id": "00fbc7c6",
   "metadata": {},
   "outputs": [],
   "source": [
    "from skseq.sequences.extended_features import *\n",
    "\n",
    "feature_mapper_ext = Extended_Features(train_seq)\n",
    "feature_mapper_ext.build_features()"
   ]
  },
  {
   "cell_type": "code",
   "execution_count": 5,
   "id": "c324bba9-0b09-4159-bb2a-60b8bf5e6c29",
   "metadata": {},
   "outputs": [
    {
     "name": "stdout",
     "output_type": "stream",
     "text": [
      "Epoch: 0 Accuracy: 0.929694\n",
      "Epoch: 1 Accuracy: 0.943821\n",
      "Epoch: 2 Accuracy: 0.947946\n",
      "Epoch: 3 Accuracy: 0.950402\n",
      "Epoch: 4 Accuracy: 0.952245\n"
     ]
    }
   ],
   "source": [
    "sp = spc.StructuredPerceptron(corpus.word_dict, corpus.tag_dict, feature_mapper_ext)\n",
    "sp.num_epochs = 5\n",
    "num_epochs = 5\n",
    "sp.fit(feature_mapper_ext.dataset, num_epochs)"
   ]
  },
  {
   "cell_type": "code",
   "execution_count": 6,
   "id": "e5f093c3-048a-4485-a822-daa33ccfcb74",
   "metadata": {},
   "outputs": [],
   "source": [
    "sp.save_model(\"./fitted_models/perceptron_5_iter_extra\")"
   ]
  },
  {
   "attachments": {},
   "cell_type": "markdown",
   "id": "0657d634",
   "metadata": {},
   "source": [
    "## Deep Learning approach"
   ]
  },
  {
   "cell_type": "markdown",
   "id": "9bcccabc",
   "metadata": {},
   "source": []
  }
 ],
 "metadata": {
  "kernelspec": {
   "display_name": "Python 3 (ipykernel)",
   "language": "python",
   "name": "python3"
  },
  "language_info": {
   "codemirror_mode": {
    "name": "ipython",
    "version": 3
   },
   "file_extension": ".py",
   "mimetype": "text/x-python",
   "name": "python",
   "nbconvert_exporter": "python",
   "pygments_lexer": "ipython3",
   "version": "3.10.14"
  }
 },
 "nbformat": 4,
 "nbformat_minor": 5
}
