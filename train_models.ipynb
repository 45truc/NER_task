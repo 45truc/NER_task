{
  "cells": [
    {
      "cell_type": "code",
      "execution_count": null,
      "id": "10ab9f57-463d-4153-b8a8-43d569c8747a",
      "metadata": {
        "id": "10ab9f57-463d-4153-b8a8-43d569c8747a"
      },
      "outputs": [],
      "source": [
        "%matplotlib inline\n",
        "%load_ext autoreload\n",
        "%autoreload 2\n",
        "\n",
        "from pathlib import Path\n",
        "import scipy\n",
        "import numpy as np\n",
        "import os,sys\n",
        "\n",
        "currentdir = Path.cwd()\n",
        "sys.path.insert(0,str(currentdir)+'\\\\utils')\n",
        "import skseq\n",
        "import skseq.sequences.structured_perceptron as spc\n",
        "from utils import *"
      ]
    },
    {
      "cell_type": "markdown",
      "id": "0204e8c6",
      "metadata": {
        "id": "0204e8c6"
      },
      "source": [
        "This notebook containins all the code required to train the models and store them in fitted model folder."
      ]
    },
    {
      "cell_type": "markdown",
      "id": "63be5430",
      "metadata": {
        "id": "63be5430"
      },
      "source": [
        "## Loading Data"
      ]
    },
    {
      "cell_type": "code",
      "execution_count": null,
      "id": "d7b51304",
      "metadata": {
        "id": "d7b51304"
      },
      "outputs": [],
      "source": [
        "corpus = NerCorpus()"
      ]
    },
    {
      "cell_type": "code",
      "execution_count": null,
      "id": "0f3b7082-a6dc-4652-b1c0-b8fdba39a019",
      "metadata": {
        "id": "0f3b7082-a6dc-4652-b1c0-b8fdba39a019"
      },
      "outputs": [],
      "source": [
        "data_path = \"./data\"\n",
        "\n",
        "#data_path = parentdir + data_path\n",
        "\n",
        "train_seq = corpus.read_sequence_list(data_path + \"/train_data_ner.csv\",\n",
        "                                            max_sent_len=100)"
      ]
    },
    {
      "cell_type": "markdown",
      "id": "2ec4d8a1",
      "metadata": {
        "id": "2ec4d8a1"
      },
      "source": [
        "## Structure Perceptron"
      ]
    },
    {
      "cell_type": "markdown",
      "id": "3dac0fa0",
      "metadata": {
        "id": "3dac0fa0"
      },
      "source": [
        "### Structure Perceptron w/ given features"
      ]
    },
    {
      "cell_type": "code",
      "execution_count": null,
      "id": "561e90b5-e280-4214-9d75-70b5a12ad0b0",
      "metadata": {
        "id": "561e90b5-e280-4214-9d75-70b5a12ad0b0"
      },
      "outputs": [],
      "source": [
        "feature_mapper = skseq.sequences.id_feature.IDFeatures(train_seq)\n",
        "feature_mapper.build_features()"
      ]
    },
    {
      "cell_type": "code",
      "execution_count": null,
      "id": "7eb9de11-3e4c-4c43-9c2f-8884c68482dc",
      "metadata": {
        "id": "7eb9de11-3e4c-4c43-9c2f-8884c68482dc",
        "outputId": "7ed3d04e-cf3a-49b5-c57c-669adb6b80f5"
      },
      "outputs": [
        {
          "name": "stdout",
          "output_type": "stream",
          "text": [
            "Epoch: 0 Accuracy: 0.893766\n",
            "Epoch: 1 Accuracy: 0.931943\n",
            "Epoch: 2 Accuracy: 0.941427\n",
            "Epoch: 3 Accuracy: 0.946285\n",
            "Epoch: 4 Accuracy: 0.949950\n"
          ]
        }
      ],
      "source": [
        "sp = spc.StructuredPerceptron(corpus.word_dict, corpus.tag_dict, feature_mapper)\n",
        "sp.num_epochs = 5\n",
        "num_epochs = 5\n",
        "sp.fit(feature_mapper.dataset, num_epochs)"
      ]
    },
    {
      "cell_type": "code",
      "execution_count": null,
      "id": "370fb75b-64b2-42fe-b7dc-bdd78ec57e5a",
      "metadata": {
        "id": "370fb75b-64b2-42fe-b7dc-bdd78ec57e5a"
      },
      "outputs": [],
      "source": [
        "sp.save_model(\"./fitted_models/perceptron_5_iter_given\")"
      ]
    },
    {
      "cell_type": "markdown",
      "id": "89db4477",
      "metadata": {
        "id": "89db4477"
      },
      "source": [
        "### Structure Perceptron w/ extra features"
      ]
    },
    {
      "cell_type": "code",
      "execution_count": null,
      "id": "00fbc7c6",
      "metadata": {
        "id": "00fbc7c6"
      },
      "outputs": [],
      "source": [
        "from skseq.sequences.extended_features import *\n",
        "\n",
        "feature_mapper_ext = Extended_Features(train_seq)\n",
        "feature_mapper_ext.build_features()"
      ]
    },
    {
      "cell_type": "code",
      "execution_count": null,
      "id": "c324bba9-0b09-4159-bb2a-60b8bf5e6c29",
      "metadata": {
        "id": "c324bba9-0b09-4159-bb2a-60b8bf5e6c29",
        "outputId": "4349858c-0c9a-4a55-e338-b64b416e8d6e"
      },
      "outputs": [
        {
          "name": "stdout",
          "output_type": "stream",
          "text": [
            "Epoch: 0 Accuracy: 0.929694\n",
            "Epoch: 1 Accuracy: 0.943821\n",
            "Epoch: 2 Accuracy: 0.947946\n",
            "Epoch: 3 Accuracy: 0.950402\n",
            "Epoch: 4 Accuracy: 0.952245\n"
          ]
        }
      ],
      "source": [
        "sp = spc.StructuredPerceptron(corpus.word_dict, corpus.tag_dict, feature_mapper_ext)\n",
        "sp.num_epochs = 5\n",
        "num_epochs = 5\n",
        "sp.fit(feature_mapper_ext.dataset, num_epochs)"
      ]
    },
    {
      "cell_type": "code",
      "execution_count": null,
      "id": "e5f093c3-048a-4485-a822-daa33ccfcb74",
      "metadata": {
        "id": "e5f093c3-048a-4485-a822-daa33ccfcb74"
      },
      "outputs": [],
      "source": [
        "sp.save_model(\"./fitted_models/perceptron_5_iter_extra\")"
      ]
    },
    {
      "cell_type": "markdown",
      "id": "0657d634",
      "metadata": {
        "id": "0657d634"
      },
      "source": [
        "## Deep Learning approach"
      ]
    },
    {
      "cell_type": "markdown",
      "id": "5b7bf3cb-d418-49e6-aefe-2ff5275e1644",
      "metadata": {
        "id": "5b7bf3cb-d418-49e6-aefe-2ff5275e1644"
      },
      "source": [
        "### Bi-LSTM\n",
        "\n",
        "If errors occur when running this section, please see the following notebook in Google Colab where all the outputs can be seen: https://drive.google.com/file/d/1QGFU2hH6p8pU6hAaWe6dHxUKCng7t00V/view?usp=sharing"
      ]
    },
    {
      "cell_type": "markdown",
      "id": "9bcccabc",
      "metadata": {
        "id": "9bcccabc"
      },
      "source": [
        "train_df = pd.read_csv('./data/train_data_ner.csv', encoding=\"latin1\").fillna(method=\"ffill\")\n",
        "test_df = pd.read_csv(\"./data/test_data_ner.csv\", encoding=\"latin1\").fillna(method=\"ffill\")\n",
        "tiny_test_df = pd.read_csv(\"./data/tiny_test.csv\", encoding=\"latin1\").fillna(method=\"ffill\")"
      ]
    },
    {
      "cell_type": "code",
      "execution_count": null,
      "id": "62e2e851-94e2-4222-abec-bba3ad53089a",
      "metadata": {
        "id": "62e2e851-94e2-4222-abec-bba3ad53089a"
      },
      "outputs": [],
      "source": [
        "# PREPROCESSING\n",
        "\n",
        "# concatenating 3 df to create 1 vocabulary\n",
        "concatenated_df = pd.concat([train_df, test_df, tiny_test_df], ignore_index=True)\n",
        "\n",
        "# creating vocabulary\n",
        "word2idx, tag2idx, n_words, n_tags, tags = create_vocabulary_bilstm(concatenated_df)\n",
        "\n",
        "# getting sentences\n",
        "train_getter = SentenceGetter(train_df)\n",
        "test_getter = SentenceGetter(test_df)\n",
        "tiny_test_getter = SentenceGetter(tiny_test_df)\n",
        "\n",
        "train_sentences = train_getter.sentences\n",
        "test_sentences = test_getter.sentences\n",
        "tiny_test_sentences = tiny_test_getter.sentences\n",
        "\n",
        "# Encode and pad sequences for each dataset\n",
        "X_train, y_train = encode_and_pad_sequences_bilstm(train_sentences, tags, word2idx, tag2idx, n_words, max_len=50)\n",
        "X_test, y_test = encode_and_pad_sequences_bilstm(test_sentences,tags, word2idx, tag2idx, n_words, max_len=50)\n",
        "X_tiny_test, y_tiny_test = encode_and_pad_sequences_bilstm(tiny_test_sentences, tags, word2idx, tag2idx, n_words, max_len=50)"
      ]
    },
    {
      "cell_type": "code",
      "execution_count": null,
      "id": "4c75f4ee-2879-4f7f-908c-466f3b2889df",
      "metadata": {
        "id": "4c75f4ee-2879-4f7f-908c-466f3b2889df"
      },
      "outputs": [],
      "source": [
        "# creating dataset and dataloader\n",
        "train_dataset = NERDataset(X_train, y_train)\n",
        "val_dataset = NERDataset(X_test, y_test)\n",
        "\n",
        "train_loader = DataLoader(train_dataset, batch_size=32, shuffle=True)\n",
        "val_loader = DataLoader(val_dataset, batch_size=32, shuffle=False)"
      ]
    },
    {
      "cell_type": "code",
      "execution_count": null,
      "id": "55d446ff-109c-4281-ae28-b9a11aa2872d",
      "metadata": {
        "id": "55d446ff-109c-4281-ae28-b9a11aa2872d"
      },
      "outputs": [],
      "source": [
        "# Create class weights\n",
        "weights, unique_tags = create_class_weights(train_df['tags'])"
      ]
    },
    {
      "cell_type": "code",
      "execution_count": null,
      "id": "4275484d-58af-4a54-a908-5a0b901c7176",
      "metadata": {
        "id": "4275484d-58af-4a54-a908-5a0b901c7176"
      },
      "outputs": [],
      "source": [
        "# hyperparameters for the model\n",
        "embedding_dim = 100\n",
        "hidden_dim = 256\n",
        "dropout = 0.5\n",
        "learning_rate = 0.001\n",
        "weight_decay = 1e-5 # L2 regularization\n",
        "n_epochs = 5\n",
        "\n",
        "# initializing the model\n",
        "model = BiLSTMModel(vocab_size=n_words, tagset_size=n_tags, padding_idx=n_words-1)\n",
        "loss_function = nn.CrossEntropyLoss(weight=weights)\n",
        "optimizer = torch.optim.Adam(model.parameters(), lr=learning_rate, weight_decay=weight_decay)"
      ]
    },
    {
      "cell_type": "code",
      "execution_count": null,
      "id": "f5721323-48b6-4c12-ada9-e4450954dcbb",
      "metadata": {
        "id": "f5721323-48b6-4c12-ada9-e4450954dcbb"
      },
      "outputs": [],
      "source": [
        "%%time\n",
        "\n",
        "# Train and evaluate the model\n",
        "train_losses, valid_losses, train_accuracies, valid_accuracies = train_bilstm(train_loader, val_loader, model, loss_function, optimizer, n_epochs, n_tags)"
      ]
    },
    {
      "cell_type": "code",
      "execution_count": null,
      "id": "9d84c095-693b-4e7b-bed5-6941012e7ba7",
      "metadata": {
        "id": "9d84c095-693b-4e7b-bed5-6941012e7ba7"
      },
      "outputs": [],
      "source": [
        "plot_metrics_bilstm(train_losses, valid_losses, train_accuracies, valid_accuracies)"
      ]
    },
    {
      "cell_type": "code",
      "execution_count": null,
      "id": "eaaef666-9f5f-420d-bf42-aab3e395c88c",
      "metadata": {
        "id": "eaaef666-9f5f-420d-bf42-aab3e395c88c"
      },
      "outputs": [],
      "source": [
        "# Define the path where you want to save the model\n",
        "model_save_path = \"bi-lstm_model2.pth\"\n",
        "\n",
        "# Save the model's state dictionary\n",
        "torch.save(model.state_dict(), model_save_path)"
      ]
    },
    {
      "cell_type": "code",
      "execution_count": null,
      "id": "13e37efc-72b8-477c-96f1-c9ba7b9def7c",
      "metadata": {
        "id": "13e37efc-72b8-477c-96f1-c9ba7b9def7c"
      },
      "outputs": [],
      "source": [
        "# evaluating train and test set"
      ]
    },
    {
      "cell_type": "code",
      "execution_count": null,
      "id": "1915847d-3ff0-4742-b020-ee4bea828db6",
      "metadata": {
        "id": "1915847d-3ff0-4742-b020-ee4bea828db6"
      },
      "outputs": [],
      "source": [
        "#train\n",
        "tr_word2idx, tr_tag2idx, tr_n_words, tr_n_tags, tr_tags = create_vocabulary_bilstm(train_df)\n",
        "# Define idx2word and idx2tag mappings\n",
        "tr_idx2word = {v: k for k, v in tr_word2idx.items()}\n",
        "tr_idx2tag = {v: k for k, v in tr_tag2idx.items()}"
      ]
    },
    {
      "cell_type": "code",
      "execution_count": null,
      "id": "3030398b-8d31-44bc-be1d-613706a048a1",
      "metadata": {
        "id": "3030398b-8d31-44bc-be1d-613706a048a1"
      },
      "outputs": [],
      "source": [
        "# Get predicted and true tags for further analysis\n",
        "train_preds, train_labels = get_predictions_and_labels(model, train_loader)"
      ]
    },
    {
      "cell_type": "code",
      "execution_count": null,
      "id": "16a39140-58a9-4a9e-b974-8bc7f17c23ea",
      "metadata": {
        "id": "16a39140-58a9-4a9e-b974-8bc7f17c23ea"
      },
      "outputs": [],
      "source": [
        "# Convert tags to sentences\n",
        "tagged_sentences = tags_to_sentences(train_sentences, train_preds, idx2word, idx2tag)\n",
        "\n",
        "# Print example sentences with predicted tags\n",
        "for sentence in tagged_sentences:\n",
        "    print(sentence)"
      ]
    },
    {
      "cell_type": "code",
      "execution_count": null,
      "id": "cb1d7af6-f017-48d9-82cc-6112c13b853a",
      "metadata": {
        "id": "cb1d7af6-f017-48d9-82cc-6112c13b853a"
      },
      "outputs": [],
      "source": [
        "#plot_confusion_matrix_bilstm(y_train, train_preds, idx2tag, save=True) # getting ERROR"
      ]
    },
    {
      "cell_type": "code",
      "execution_count": null,
      "id": "aaa99f0d-15cb-4ef3-a422-385522dac96c",
      "metadata": {
        "id": "aaa99f0d-15cb-4ef3-a422-385522dac96c"
      },
      "outputs": [],
      "source": [
        "eval_loss, eval_accuracy, eval_accuracy_without_o, f1 = evaluate_bilstm_tiny_test(model, train_loader, loss_function, n_tags, tag2idx)\n",
        "\n",
        "print(f\"Test Loss: {eval_loss}\")\n",
        "print(f\"Test Accuracy: {eval_accuracy}\")\n",
        "print(f\"Test Accuracy without 'O': {eval_accuracy_without_o}\")\n",
        "print(f\"Test F1 Score: {f1}\")"
      ]
    },
    {
      "cell_type": "code",
      "execution_count": null,
      "id": "9173d77f-4659-41aa-a49a-50787b91dbeb",
      "metadata": {
        "id": "9173d77f-4659-41aa-a49a-50787b91dbeb"
      },
      "outputs": [],
      "source": [
        "#test\n",
        "ts_word2idx, ts_tag2idx, ts_n_words, ts_n_tags, ts_tags = create_vocabulary_bilstm(test_df)\n",
        "# Define idx2word and idx2tag mappings\n",
        "ts_idx2word = {v: k for k, v in ts_word2idx.items()}\n",
        "ts_idx2tag = {v: k for k, v in ts_tag2idx.items()}"
      ]
    },
    {
      "cell_type": "code",
      "execution_count": null,
      "id": "4bd9e00f-4362-46f7-81a7-e35f27a2e2eb",
      "metadata": {
        "id": "4bd9e00f-4362-46f7-81a7-e35f27a2e2eb"
      },
      "outputs": [],
      "source": [
        "# Get predicted and true tags for further analysis\n",
        "test_preds, test_labels = get_predictions_and_labels(model, val_loader)"
      ]
    },
    {
      "cell_type": "code",
      "execution_count": null,
      "id": "a05a59d2-f8b7-427b-b7ee-67feeeb6c6ba",
      "metadata": {
        "id": "a05a59d2-f8b7-427b-b7ee-67feeeb6c6ba"
      },
      "outputs": [],
      "source": [
        "# Convert tags to sentences\n",
        "tagged_sentences = tags_to_sentences(test_sentences, test_preds, idx2word, idx2tag)\n",
        "\n",
        "# Print example sentences with predicted tags\n",
        "for sentence in tagged_sentences:\n",
        "    print(sentence)"
      ]
    },
    {
      "cell_type": "code",
      "execution_count": null,
      "id": "6e659b47-d0f4-420f-8ff9-829aa00ac4b3",
      "metadata": {
        "id": "6e659b47-d0f4-420f-8ff9-829aa00ac4b3"
      },
      "outputs": [],
      "source": [
        "plot_confusion_matrix_bilstm(y_test, test_preds, idx2tag, save=True)"
      ]
    },
    {
      "cell_type": "code",
      "execution_count": null,
      "id": "8bcecf4a-873d-4115-b5ff-231b744b2371",
      "metadata": {
        "id": "8bcecf4a-873d-4115-b5ff-231b744b2371"
      },
      "outputs": [],
      "source": [
        "# Evaluate the model on the test set\n",
        "eval_loss, eval_accuracy, eval_accuracy_without_o, f1 = evaluate_bilstm_tiny_test(model, val_loader, loss_function, n_tags, tag2idx)\n",
        "\n",
        "print(f\"Test Loss: {eval_loss}\")\n",
        "print(f\"Test Accuracy: {eval_accuracy}\")\n",
        "print(f\"Test Accuracy without 'O': {eval_accuracy_without_o}\")\n",
        "print(f\"Test F1 Score: {f1}\")"
      ]
    },
    {
      "cell_type": "markdown",
      "id": "e1d963a8-d46d-4767-8b6c-16a66aca05e9",
      "metadata": {
        "id": "e1d963a8-d46d-4767-8b6c-16a66aca05e9"
      },
      "source": [
        "### Pre-trained BERT"
      ]
    },
    {
      "cell_type": "code",
      "source": [
        "#  Install Python libraries using pip inside Colab\n",
        "#!pip install accelerate -U\n",
        "#!pip install -U transformers\n",
        "#!pip install evaluate\n",
        "#!pip install seqeval -U"
      ],
      "metadata": {
        "id": "8A0gaGbKjGmM"
      },
      "id": "8A0gaGbKjGmM",
      "execution_count": null,
      "outputs": []
    },
    {
      "cell_type": "code",
      "source": [
        "import pandas as pd\n",
        "\n",
        "# Please change paths to your directory\n",
        "train = pd.read_csv(\"/content/drive/MyDrive/nlp/ner/train_data_ner.csv\")\n",
        "test = pd.read_csv(\"/content/drive/MyDrive/nlp/ner/test_data_ner.csv\")\n",
        "tiny = pd.read_csv(\"/content/drive/MyDrive/nlp/ner/tiny_test.csv\")"
      ],
      "metadata": {
        "id": "2_2cm9f1hQQQ"
      },
      "id": "2_2cm9f1hQQQ",
      "execution_count": 4,
      "outputs": []
    },
    {
      "cell_type": "code",
      "source": [
        "# Import tokenizer from a pretrained BERT\n",
        "\n",
        "from transformers import AutoTokenizer\n",
        "from transformers import DataCollatorForTokenClassification\n",
        "\n",
        "model_checkpoint = \"bert-base-cased\"\n",
        "tokenizer = AutoTokenizer.from_pretrained(model_checkpoint)\n",
        "data_collator = DataCollatorForTokenClassification(tokenizer=tokenizer)"
      ],
      "metadata": {
        "colab": {
          "base_uri": "https://localhost:8080/",
          "height": 304,
          "referenced_widgets": [
            "bd7de3f8ce204097ad40f68f79aece74",
            "22d1ea6c1de04b4285523bcde3fe3ee7",
            "a72a4f8e5f2b445d95ad2d56413b3212",
            "39cb2654d570409a9b9bfd3f194c14cd",
            "23728af7ae2f4532ae86c80307d835ea",
            "6f6c20467980481c8cd8fbb97d4ff34f",
            "31a0425c85074f73aaf39dac720d36b4",
            "c7147d10d8204cb49dd9629f37b7a890",
            "5408af87a26340f4891335d6e4e5fa4c",
            "1bd5082b97eb45d2b0223260259e30df",
            "45c6235a814343b296f61028242d8c0f",
            "50a4f840aee643daa590fa8d60f66d6c",
            "e63b4fa5e44f48e895577b968f1c08fd",
            "bf5a8994b82e40b69e403a6ec42a7614",
            "7b3b2c9c63ea407fa3ec680f840d55b1",
            "c8537539e8e2411e919a8a17c2a76e12",
            "9ec435e0b8c84940a6f41184b890790d",
            "3920130d655a42f8a3cc57c256a6e140",
            "c96805b5d8094fad8f52d36a02032879",
            "e231f60b876248f6b60061b93b89197f",
            "2b1829e7ad594234811193372f92b79c",
            "550c874b4fdc4ddc9c27600fce4b12ca",
            "25cc4a804a20420e9fe8486ecea6f2ba",
            "02f1618b9e4f4a3d81364f4a96562e83",
            "41ab2c64f6eb4cccb495fdcb818ed20e",
            "2ba557e431d148d2b59156e4f37c49cd",
            "38fca34a6c4a4308ade3de110a65498f",
            "12fd1d23cc6d4db5b28cd533c3fcc9a3",
            "1d4e06a4fdaa439cb7b1e58fa7746053",
            "3857d47ce2414272adf68137cf319ac5",
            "ddded48305ef4514999ed9387c99a0a3",
            "9faa26e3a6174f0aad9a04b76ba2028d",
            "f12e149716494e8cb00eee9fb332787b",
            "3da6f2cdb47947c09fc2132b9f5c971b",
            "d016f2e129ca454ab52c81e2992e039f",
            "3595a787456042a89e7f370da75fa26c",
            "a8860f90f9ac4fa68e0f9bebde6acfff",
            "abeccc6f454145f28281618355a30011",
            "edc2c7e186b6457986a05f1526908056",
            "debd6b1d298a4a30a2b93dd80a8dd97c",
            "41b27927bbed45fc86c5aaa24ee58ee5",
            "77e5230e97ca424e906093f9c2338b3e",
            "6f5b59e3de6d4856b0b5e43a5b296003",
            "37b12a5b9cdc4d95a9ac788be556e211"
          ]
        },
        "id": "5oW1ducBhdm1",
        "outputId": "4e396048-1eef-4136-d66f-a895efe1d409"
      },
      "id": "5oW1ducBhdm1",
      "execution_count": 5,
      "outputs": [
        {
          "output_type": "stream",
          "name": "stderr",
          "text": [
            "/usr/local/lib/python3.10/dist-packages/huggingface_hub/utils/_token.py:89: UserWarning: \n",
            "The secret `HF_TOKEN` does not exist in your Colab secrets.\n",
            "To authenticate with the Hugging Face Hub, create a token in your settings tab (https://huggingface.co/settings/tokens), set it as secret in your Google Colab and restart your session.\n",
            "You will be able to reuse this secret in all of your notebooks.\n",
            "Please note that authentication is recommended but still optional to access public models or datasets.\n",
            "  warnings.warn(\n"
          ]
        },
        {
          "output_type": "display_data",
          "data": {
            "text/plain": [
              "tokenizer_config.json:   0%|          | 0.00/49.0 [00:00<?, ?B/s]"
            ],
            "application/vnd.jupyter.widget-view+json": {
              "version_major": 2,
              "version_minor": 0,
              "model_id": "bd7de3f8ce204097ad40f68f79aece74"
            }
          },
          "metadata": {}
        },
        {
          "output_type": "stream",
          "name": "stderr",
          "text": [
            "/usr/local/lib/python3.10/dist-packages/huggingface_hub/file_download.py:1132: FutureWarning: `resume_download` is deprecated and will be removed in version 1.0.0. Downloads always resume when possible. If you want to force a new download, use `force_download=True`.\n",
            "  warnings.warn(\n"
          ]
        },
        {
          "output_type": "display_data",
          "data": {
            "text/plain": [
              "config.json:   0%|          | 0.00/570 [00:00<?, ?B/s]"
            ],
            "application/vnd.jupyter.widget-view+json": {
              "version_major": 2,
              "version_minor": 0,
              "model_id": "50a4f840aee643daa590fa8d60f66d6c"
            }
          },
          "metadata": {}
        },
        {
          "output_type": "display_data",
          "data": {
            "text/plain": [
              "vocab.txt:   0%|          | 0.00/213k [00:00<?, ?B/s]"
            ],
            "application/vnd.jupyter.widget-view+json": {
              "version_major": 2,
              "version_minor": 0,
              "model_id": "25cc4a804a20420e9fe8486ecea6f2ba"
            }
          },
          "metadata": {}
        },
        {
          "output_type": "display_data",
          "data": {
            "text/plain": [
              "tokenizer.json:   0%|          | 0.00/436k [00:00<?, ?B/s]"
            ],
            "application/vnd.jupyter.widget-view+json": {
              "version_major": 2,
              "version_minor": 0,
              "model_id": "3da6f2cdb47947c09fc2132b9f5c971b"
            }
          },
          "metadata": {}
        }
      ]
    },
    {
      "cell_type": "code",
      "source": [
        "# tag dict to correlate labels and numbers\n",
        "tag_dict = {'O': 0,}\n",
        "i = 1\n",
        "for name in ['geo', 'gpe', 'tim', 'org', 'per', 'art', 'nat', 'eve']:\n",
        "    for prefix in [\"B-\", \"I-\"]:\n",
        "        tag_dict[prefix + name] = i\n",
        "        i += 1\n",
        "tag_dict"
      ],
      "metadata": {
        "colab": {
          "base_uri": "https://localhost:8080/"
        },
        "id": "u4_vZ-pVhrte",
        "outputId": "cdf2a3eb-ab49-4068-d8a9-8d3a0f0cbeb6"
      },
      "id": "u4_vZ-pVhrte",
      "execution_count": 6,
      "outputs": [
        {
          "output_type": "execute_result",
          "data": {
            "text/plain": [
              "{'O': 0,\n",
              " 'B-geo': 1,\n",
              " 'I-geo': 2,\n",
              " 'B-gpe': 3,\n",
              " 'I-gpe': 4,\n",
              " 'B-tim': 5,\n",
              " 'I-tim': 6,\n",
              " 'B-org': 7,\n",
              " 'I-org': 8,\n",
              " 'B-per': 9,\n",
              " 'I-per': 10,\n",
              " 'B-art': 11,\n",
              " 'I-art': 12,\n",
              " 'B-nat': 13,\n",
              " 'I-nat': 14,\n",
              " 'B-eve': 15,\n",
              " 'I-eve': 16}"
            ]
          },
          "metadata": {},
          "execution_count": 6
        }
      ]
    },
    {
      "cell_type": "code",
      "source": [
        "# Functions to load and preprocess the data\n",
        "\n",
        "# Fix labels according to word_ids\n",
        "def align_labels_with_tokens(labels, word_ids):\n",
        "    new_labels = [] # correct labels\n",
        "\n",
        "    # Initialize a variable to keep track of the current word's ID\n",
        "    current_word = None\n",
        "\n",
        "    for word_id in word_ids:\n",
        "        if word_id != current_word: # Start of a new word/entity\n",
        "            current_word = word_id\n",
        "\n",
        "            # Assign -100 to labels for special tokens, else use the word's label\n",
        "            label = -100 if word_id is None else labels[word_id]\n",
        "            new_labels.append(label)\n",
        "        elif word_id is None:\n",
        "            # Handle special tokens by assigning them a label of -100\n",
        "            new_labels.append(-100)\n",
        "        else: # Token belongs to the same word/entity as the previous token\n",
        "            label = labels[word_id]\n",
        "            if label % 2 == 1: # If word split into different tokens: B -> I\n",
        "                label += 1\n",
        "            new_labels.append(label)\n",
        "    return new_labels\n",
        "\n",
        "def tokenize_and_align_labels(examples, save_wordid=False):\n",
        "    tokenized_inputs = tokenizer(\n",
        "        examples[\"words\"], truncation=True, is_split_into_words=True\n",
        "    )\n",
        "    all_labels = examples[\"tags\"]\n",
        "    new_labels = []\n",
        "    for i, labels in enumerate(all_labels):\n",
        "        word_ids = tokenized_inputs.word_ids(i)\n",
        "        new_labels.append(align_labels_with_tokens(labels, word_ids))\n",
        "\n",
        "    tokenized_inputs[\"labels\"] = new_labels\n",
        "    if save_wordid:\n",
        "        return tokenized_inputs, [tokenized_inputs.word_ids(i) for i in range(len(all_labels))]\n",
        "    return tokenized_inputs\n",
        "\n",
        "def format_data(df, save_wordid=False):\n",
        "    df[\"number_tag\"] = df[\"tags\"].replace(tag_dict)\n",
        "    df['words'] = df['words'].astype(str)\n",
        "    sentences = df.groupby(by=\"sentence_id\")[\"words\"].apply(list)\n",
        "    tags = df.groupby(by=\"sentence_id\")[\"number_tag\"].apply(list)\n",
        "    data = {}\n",
        "    data[\"words\"] = sentences.tolist()\n",
        "    data[\"tags\"] = tags.tolist()\n",
        "    if save_wordid:\n",
        "        tokenized_datasets, wordids = tokenize_and_align_labels(data, save_wordid=save_wordid)\n",
        "    else:\n",
        "        tokenized_datasets = tokenize_and_align_labels(data, save_wordid=save_wordid)\n",
        "    dataset = [ {key: tokenized_datasets[key][i]\n",
        "                  for key in ['input_ids', 'token_type_ids', 'attention_mask', 'labels']}\n",
        "                 for i in range(len(tokenized_datasets['input_ids'])) ]\n",
        "    if save_wordid:\n",
        "        return dataset, wordids\n",
        "    return dataset"
      ],
      "metadata": {
        "id": "dzM-9spchxwI"
      },
      "id": "dzM-9spchxwI",
      "execution_count": 7,
      "outputs": []
    },
    {
      "cell_type": "code",
      "source": [
        "train_dataset, train_wordids = format_data(train, save_wordid=True)\n",
        "test_dataset, test_wordids = format_data(test, save_wordid=True)\n",
        "tiny_dataset, tiny_wordids = format_data(tiny, save_wordid=True)"
      ],
      "metadata": {
        "id": "H97LstCiiL_Y"
      },
      "id": "H97LstCiiL_Y",
      "execution_count": 8,
      "outputs": []
    },
    {
      "cell_type": "code",
      "source": [
        "# define metrics\n",
        "\n",
        "import numpy as np\n",
        "import evaluate\n",
        "metric = evaluate.load(\"seqeval\")\n",
        "\n",
        "def compute_metrics(eval_preds):\n",
        "    # Function compute_metrics used to compute the precision, recall\n",
        "    # F1 score, and accuracy of the predictions made by a model.\n",
        "\n",
        "    logits, labels = eval_preds\n",
        "    predictions = np.argmax(logits, axis=-1)\n",
        "    # Ignore -100\n",
        "    true_labels = [[label_names[l] for l in label if l != -100] for label in labels]\n",
        "    true_predictions = [\n",
        "        [label_names[p] for (p, l) in zip(prediction, label) if l != -100]\n",
        "        for prediction, label in zip(predictions, labels)\n",
        "    ]\n",
        "\n",
        "    # Compute the metrix with evaluate\n",
        "    all_metrics = metric.compute(predictions=true_predictions, references=true_labels)\n",
        "    return {\n",
        "        \"precision\": all_metrics[\"overall_precision\"],\n",
        "        \"recall\": all_metrics[\"overall_recall\"],\n",
        "        \"f1\": all_metrics[\"overall_f1\"],\n",
        "        \"accuracy\": all_metrics[\"overall_accuracy\"],\n",
        "    }"
      ],
      "metadata": {
        "colab": {
          "base_uri": "https://localhost:8080/",
          "height": 49,
          "referenced_widgets": [
            "1f0c498c804d40c3bcc3a709b3a82836",
            "89bd68b26f594c99b86c786d8eec8288",
            "8840b0a129e048ad90dd515c015927b7",
            "eeae19b2873842e1953404c20a88d99c",
            "4f4dbc100c404274bbe971bf3889fe7c",
            "7b87f4b003244725ac7ab11141445310",
            "830661b8237e41f8bbc791f7a54838eb",
            "98d0af952ea943679da5e690913364e7",
            "91f1c6d008c741b5b294dbb21c0af4b1",
            "af8695ec72e54517acc0daeb138bd36a",
            "c1ed7b6180f54d52844d01f3a0de14d5"
          ]
        },
        "id": "aJDJU8JDiNgZ",
        "outputId": "da0da5f3-cc47-4ff5-b5eb-b8bc7c6cfc8c"
      },
      "id": "aJDJU8JDiNgZ",
      "execution_count": 9,
      "outputs": [
        {
          "output_type": "display_data",
          "data": {
            "text/plain": [
              "Downloading builder script:   0%|          | 0.00/6.34k [00:00<?, ?B/s]"
            ],
            "application/vnd.jupyter.widget-view+json": {
              "version_major": 2,
              "version_minor": 0,
              "model_id": "1f0c498c804d40c3bcc3a709b3a82836"
            }
          },
          "metadata": {}
        }
      ]
    },
    {
      "cell_type": "code",
      "source": [
        "# Define model\n",
        "\n",
        "from transformers import AutoModelForTokenClassification\n",
        "import torch\n",
        "\n",
        "# Map labels and id's\n",
        "label_names = ['O', 'B-geo', 'I-geo', 'B-gpe', 'I-gpe', 'B-tim', 'I-tim', 'B-org', 'I-org', 'B-per', 'I-per', 'B-art', 'I-art', 'B-nat', 'I-nat', 'B-eve', 'I-eve']\n",
        "id2label = {i: label for i, label in enumerate(label_names)}\n",
        "label2id = {v: k for k, v in id2label.items()}\n",
        "\n",
        "# Load a pre-trained model for token classification\n",
        "model = AutoModelForTokenClassification.from_pretrained(\n",
        "    model_checkpoint,\n",
        "    id2label=id2label,\n",
        "    label2id=label2id,\n",
        ")\n",
        "torch.device('cuda')"
      ],
      "metadata": {
        "colab": {
          "base_uri": "https://localhost:8080/",
          "height": 121,
          "referenced_widgets": [
            "70475c3b0e454a6fb7cbb9563aa70e01",
            "2829d076c2054bfab67320aca2d0dd22",
            "591dac547107441d878cecab93bbdfb2",
            "742b8e60809d45a196d8ec2797aaa941",
            "b7a5c84de5f542ba9b0f6dbeab63d169",
            "39dbdfd37aec496dae66eac537526b71",
            "c257ca84f6f64fdf8d21e82b753f618d",
            "4260d8cb8df44077b94bc7ce9e237731",
            "f1e2fab2b9774e958d4fda6feb1756ef",
            "bcf53ab7333e4ade9a2bb621146a584d",
            "95f4b4240553436bbfad3a622627b549"
          ]
        },
        "id": "22rY-s-YiUN1",
        "outputId": "5a61affe-162c-4e64-d93c-dda91bb19d07"
      },
      "id": "22rY-s-YiUN1",
      "execution_count": 10,
      "outputs": [
        {
          "output_type": "display_data",
          "data": {
            "text/plain": [
              "model.safetensors:   0%|          | 0.00/436M [00:00<?, ?B/s]"
            ],
            "application/vnd.jupyter.widget-view+json": {
              "version_major": 2,
              "version_minor": 0,
              "model_id": "70475c3b0e454a6fb7cbb9563aa70e01"
            }
          },
          "metadata": {}
        },
        {
          "output_type": "stream",
          "name": "stderr",
          "text": [
            "Some weights of BertForTokenClassification were not initialized from the model checkpoint at bert-base-cased and are newly initialized: ['classifier.bias', 'classifier.weight']\n",
            "You should probably TRAIN this model on a down-stream task to be able to use it for predictions and inference.\n"
          ]
        },
        {
          "output_type": "execute_result",
          "data": {
            "text/plain": [
              "device(type='cuda')"
            ]
          },
          "metadata": {},
          "execution_count": 10
        }
      ]
    },
    {
      "cell_type": "code",
      "source": [
        "# to make it faster\n",
        "import accelerate\n",
        "from transformers import TrainingArguments\n",
        "\n",
        "# Define Training arguments\n",
        "args = TrainingArguments(\n",
        "    \"bert-finetuned-ner4_v3\",\n",
        "    evaluation_strategy=\"epoch\",\n",
        "    save_strategy=\"epoch\",\n",
        "    learning_rate=2e-4,\n",
        "    num_train_epochs=3,\n",
        "    weight_decay=0.01,\n",
        "    per_device_train_batch_size=64,\n",
        "    per_device_eval_batch_size=64,\n",
        ")"
      ],
      "metadata": {
        "colab": {
          "base_uri": "https://localhost:8080/"
        },
        "id": "EzgC4Ed-iedO",
        "outputId": "901c7657-9625-4d6f-ca68-8db9e992ee12"
      },
      "id": "EzgC4Ed-iedO",
      "execution_count": 11,
      "outputs": [
        {
          "output_type": "stream",
          "name": "stderr",
          "text": [
            "/usr/local/lib/python3.10/dist-packages/transformers/training_args.py:1474: FutureWarning: `evaluation_strategy` is deprecated and will be removed in version 4.46 of 🤗 Transformers. Use `eval_strategy` instead\n",
            "  warnings.warn(\n"
          ]
        }
      ]
    },
    {
      "cell_type": "code",
      "source": [
        "%%time\n",
        "from transformers import Trainer\n",
        "\n",
        "trainer = Trainer(\n",
        "    model=model,\n",
        "    args=args,\n",
        "    train_dataset=train_dataset,\n",
        "    eval_dataset=test_dataset,\n",
        "    data_collator=data_collator,\n",
        "    compute_metrics=compute_metrics,\n",
        "    tokenizer=tokenizer,\n",
        ")\n",
        "trainer.train()\n",
        "#!cp -r bert-finetuned-ner4_v3 /content/drive/MyDrive/nlp/ner/"
      ],
      "metadata": {
        "id": "cH0RpfIuig4F"
      },
      "id": "cH0RpfIuig4F",
      "execution_count": null,
      "outputs": []
    },
    {
      "cell_type": "code",
      "source": [],
      "metadata": {
        "id": "KPIyY2hGi03E"
      },
      "id": "KPIyY2hGi03E",
      "execution_count": null,
      "outputs": []
    }
  ],
  "metadata": {
    "kernelspec": {
      "display_name": "Python 3 (ipykernel)",
      "language": "python",
      "name": "python3"
    },
    "language_info": {
      "codemirror_mode": {
        "name": "ipython",
        "version": 3
      },
      "file_extension": ".py",
      "mimetype": "text/x-python",
      "name": "python",
      "nbconvert_exporter": "python",
      "pygments_lexer": "ipython3",
      "version": "3.10.14"
    },
    "colab": {
      "provenance": [],
      "toc_visible": true
    },
    "widgets": {
      "application/vnd.jupyter.widget-state+json": {
        "bd7de3f8ce204097ad40f68f79aece74": {
          "model_module": "@jupyter-widgets/controls",
          "model_name": "HBoxModel",
          "model_module_version": "1.5.0",
          "state": {
            "_dom_classes": [],
            "_model_module": "@jupyter-widgets/controls",
            "_model_module_version": "1.5.0",
            "_model_name": "HBoxModel",
            "_view_count": null,
            "_view_module": "@jupyter-widgets/controls",
            "_view_module_version": "1.5.0",
            "_view_name": "HBoxView",
            "box_style": "",
            "children": [
              "IPY_MODEL_22d1ea6c1de04b4285523bcde3fe3ee7",
              "IPY_MODEL_a72a4f8e5f2b445d95ad2d56413b3212",
              "IPY_MODEL_39cb2654d570409a9b9bfd3f194c14cd"
            ],
            "layout": "IPY_MODEL_23728af7ae2f4532ae86c80307d835ea"
          }
        },
        "22d1ea6c1de04b4285523bcde3fe3ee7": {
          "model_module": "@jupyter-widgets/controls",
          "model_name": "HTMLModel",
          "model_module_version": "1.5.0",
          "state": {
            "_dom_classes": [],
            "_model_module": "@jupyter-widgets/controls",
            "_model_module_version": "1.5.0",
            "_model_name": "HTMLModel",
            "_view_count": null,
            "_view_module": "@jupyter-widgets/controls",
            "_view_module_version": "1.5.0",
            "_view_name": "HTMLView",
            "description": "",
            "description_tooltip": null,
            "layout": "IPY_MODEL_6f6c20467980481c8cd8fbb97d4ff34f",
            "placeholder": "​",
            "style": "IPY_MODEL_31a0425c85074f73aaf39dac720d36b4",
            "value": "tokenizer_config.json: 100%"
          }
        },
        "a72a4f8e5f2b445d95ad2d56413b3212": {
          "model_module": "@jupyter-widgets/controls",
          "model_name": "FloatProgressModel",
          "model_module_version": "1.5.0",
          "state": {
            "_dom_classes": [],
            "_model_module": "@jupyter-widgets/controls",
            "_model_module_version": "1.5.0",
            "_model_name": "FloatProgressModel",
            "_view_count": null,
            "_view_module": "@jupyter-widgets/controls",
            "_view_module_version": "1.5.0",
            "_view_name": "ProgressView",
            "bar_style": "success",
            "description": "",
            "description_tooltip": null,
            "layout": "IPY_MODEL_c7147d10d8204cb49dd9629f37b7a890",
            "max": 49,
            "min": 0,
            "orientation": "horizontal",
            "style": "IPY_MODEL_5408af87a26340f4891335d6e4e5fa4c",
            "value": 49
          }
        },
        "39cb2654d570409a9b9bfd3f194c14cd": {
          "model_module": "@jupyter-widgets/controls",
          "model_name": "HTMLModel",
          "model_module_version": "1.5.0",
          "state": {
            "_dom_classes": [],
            "_model_module": "@jupyter-widgets/controls",
            "_model_module_version": "1.5.0",
            "_model_name": "HTMLModel",
            "_view_count": null,
            "_view_module": "@jupyter-widgets/controls",
            "_view_module_version": "1.5.0",
            "_view_name": "HTMLView",
            "description": "",
            "description_tooltip": null,
            "layout": "IPY_MODEL_1bd5082b97eb45d2b0223260259e30df",
            "placeholder": "​",
            "style": "IPY_MODEL_45c6235a814343b296f61028242d8c0f",
            "value": " 49.0/49.0 [00:00&lt;00:00, 2.46kB/s]"
          }
        },
        "23728af7ae2f4532ae86c80307d835ea": {
          "model_module": "@jupyter-widgets/base",
          "model_name": "LayoutModel",
          "model_module_version": "1.2.0",
          "state": {
            "_model_module": "@jupyter-widgets/base",
            "_model_module_version": "1.2.0",
            "_model_name": "LayoutModel",
            "_view_count": null,
            "_view_module": "@jupyter-widgets/base",
            "_view_module_version": "1.2.0",
            "_view_name": "LayoutView",
            "align_content": null,
            "align_items": null,
            "align_self": null,
            "border": null,
            "bottom": null,
            "display": null,
            "flex": null,
            "flex_flow": null,
            "grid_area": null,
            "grid_auto_columns": null,
            "grid_auto_flow": null,
            "grid_auto_rows": null,
            "grid_column": null,
            "grid_gap": null,
            "grid_row": null,
            "grid_template_areas": null,
            "grid_template_columns": null,
            "grid_template_rows": null,
            "height": null,
            "justify_content": null,
            "justify_items": null,
            "left": null,
            "margin": null,
            "max_height": null,
            "max_width": null,
            "min_height": null,
            "min_width": null,
            "object_fit": null,
            "object_position": null,
            "order": null,
            "overflow": null,
            "overflow_x": null,
            "overflow_y": null,
            "padding": null,
            "right": null,
            "top": null,
            "visibility": null,
            "width": null
          }
        },
        "6f6c20467980481c8cd8fbb97d4ff34f": {
          "model_module": "@jupyter-widgets/base",
          "model_name": "LayoutModel",
          "model_module_version": "1.2.0",
          "state": {
            "_model_module": "@jupyter-widgets/base",
            "_model_module_version": "1.2.0",
            "_model_name": "LayoutModel",
            "_view_count": null,
            "_view_module": "@jupyter-widgets/base",
            "_view_module_version": "1.2.0",
            "_view_name": "LayoutView",
            "align_content": null,
            "align_items": null,
            "align_self": null,
            "border": null,
            "bottom": null,
            "display": null,
            "flex": null,
            "flex_flow": null,
            "grid_area": null,
            "grid_auto_columns": null,
            "grid_auto_flow": null,
            "grid_auto_rows": null,
            "grid_column": null,
            "grid_gap": null,
            "grid_row": null,
            "grid_template_areas": null,
            "grid_template_columns": null,
            "grid_template_rows": null,
            "height": null,
            "justify_content": null,
            "justify_items": null,
            "left": null,
            "margin": null,
            "max_height": null,
            "max_width": null,
            "min_height": null,
            "min_width": null,
            "object_fit": null,
            "object_position": null,
            "order": null,
            "overflow": null,
            "overflow_x": null,
            "overflow_y": null,
            "padding": null,
            "right": null,
            "top": null,
            "visibility": null,
            "width": null
          }
        },
        "31a0425c85074f73aaf39dac720d36b4": {
          "model_module": "@jupyter-widgets/controls",
          "model_name": "DescriptionStyleModel",
          "model_module_version": "1.5.0",
          "state": {
            "_model_module": "@jupyter-widgets/controls",
            "_model_module_version": "1.5.0",
            "_model_name": "DescriptionStyleModel",
            "_view_count": null,
            "_view_module": "@jupyter-widgets/base",
            "_view_module_version": "1.2.0",
            "_view_name": "StyleView",
            "description_width": ""
          }
        },
        "c7147d10d8204cb49dd9629f37b7a890": {
          "model_module": "@jupyter-widgets/base",
          "model_name": "LayoutModel",
          "model_module_version": "1.2.0",
          "state": {
            "_model_module": "@jupyter-widgets/base",
            "_model_module_version": "1.2.0",
            "_model_name": "LayoutModel",
            "_view_count": null,
            "_view_module": "@jupyter-widgets/base",
            "_view_module_version": "1.2.0",
            "_view_name": "LayoutView",
            "align_content": null,
            "align_items": null,
            "align_self": null,
            "border": null,
            "bottom": null,
            "display": null,
            "flex": null,
            "flex_flow": null,
            "grid_area": null,
            "grid_auto_columns": null,
            "grid_auto_flow": null,
            "grid_auto_rows": null,
            "grid_column": null,
            "grid_gap": null,
            "grid_row": null,
            "grid_template_areas": null,
            "grid_template_columns": null,
            "grid_template_rows": null,
            "height": null,
            "justify_content": null,
            "justify_items": null,
            "left": null,
            "margin": null,
            "max_height": null,
            "max_width": null,
            "min_height": null,
            "min_width": null,
            "object_fit": null,
            "object_position": null,
            "order": null,
            "overflow": null,
            "overflow_x": null,
            "overflow_y": null,
            "padding": null,
            "right": null,
            "top": null,
            "visibility": null,
            "width": null
          }
        },
        "5408af87a26340f4891335d6e4e5fa4c": {
          "model_module": "@jupyter-widgets/controls",
          "model_name": "ProgressStyleModel",
          "model_module_version": "1.5.0",
          "state": {
            "_model_module": "@jupyter-widgets/controls",
            "_model_module_version": "1.5.0",
            "_model_name": "ProgressStyleModel",
            "_view_count": null,
            "_view_module": "@jupyter-widgets/base",
            "_view_module_version": "1.2.0",
            "_view_name": "StyleView",
            "bar_color": null,
            "description_width": ""
          }
        },
        "1bd5082b97eb45d2b0223260259e30df": {
          "model_module": "@jupyter-widgets/base",
          "model_name": "LayoutModel",
          "model_module_version": "1.2.0",
          "state": {
            "_model_module": "@jupyter-widgets/base",
            "_model_module_version": "1.2.0",
            "_model_name": "LayoutModel",
            "_view_count": null,
            "_view_module": "@jupyter-widgets/base",
            "_view_module_version": "1.2.0",
            "_view_name": "LayoutView",
            "align_content": null,
            "align_items": null,
            "align_self": null,
            "border": null,
            "bottom": null,
            "display": null,
            "flex": null,
            "flex_flow": null,
            "grid_area": null,
            "grid_auto_columns": null,
            "grid_auto_flow": null,
            "grid_auto_rows": null,
            "grid_column": null,
            "grid_gap": null,
            "grid_row": null,
            "grid_template_areas": null,
            "grid_template_columns": null,
            "grid_template_rows": null,
            "height": null,
            "justify_content": null,
            "justify_items": null,
            "left": null,
            "margin": null,
            "max_height": null,
            "max_width": null,
            "min_height": null,
            "min_width": null,
            "object_fit": null,
            "object_position": null,
            "order": null,
            "overflow": null,
            "overflow_x": null,
            "overflow_y": null,
            "padding": null,
            "right": null,
            "top": null,
            "visibility": null,
            "width": null
          }
        },
        "45c6235a814343b296f61028242d8c0f": {
          "model_module": "@jupyter-widgets/controls",
          "model_name": "DescriptionStyleModel",
          "model_module_version": "1.5.0",
          "state": {
            "_model_module": "@jupyter-widgets/controls",
            "_model_module_version": "1.5.0",
            "_model_name": "DescriptionStyleModel",
            "_view_count": null,
            "_view_module": "@jupyter-widgets/base",
            "_view_module_version": "1.2.0",
            "_view_name": "StyleView",
            "description_width": ""
          }
        },
        "50a4f840aee643daa590fa8d60f66d6c": {
          "model_module": "@jupyter-widgets/controls",
          "model_name": "HBoxModel",
          "model_module_version": "1.5.0",
          "state": {
            "_dom_classes": [],
            "_model_module": "@jupyter-widgets/controls",
            "_model_module_version": "1.5.0",
            "_model_name": "HBoxModel",
            "_view_count": null,
            "_view_module": "@jupyter-widgets/controls",
            "_view_module_version": "1.5.0",
            "_view_name": "HBoxView",
            "box_style": "",
            "children": [
              "IPY_MODEL_e63b4fa5e44f48e895577b968f1c08fd",
              "IPY_MODEL_bf5a8994b82e40b69e403a6ec42a7614",
              "IPY_MODEL_7b3b2c9c63ea407fa3ec680f840d55b1"
            ],
            "layout": "IPY_MODEL_c8537539e8e2411e919a8a17c2a76e12"
          }
        },
        "e63b4fa5e44f48e895577b968f1c08fd": {
          "model_module": "@jupyter-widgets/controls",
          "model_name": "HTMLModel",
          "model_module_version": "1.5.0",
          "state": {
            "_dom_classes": [],
            "_model_module": "@jupyter-widgets/controls",
            "_model_module_version": "1.5.0",
            "_model_name": "HTMLModel",
            "_view_count": null,
            "_view_module": "@jupyter-widgets/controls",
            "_view_module_version": "1.5.0",
            "_view_name": "HTMLView",
            "description": "",
            "description_tooltip": null,
            "layout": "IPY_MODEL_9ec435e0b8c84940a6f41184b890790d",
            "placeholder": "​",
            "style": "IPY_MODEL_3920130d655a42f8a3cc57c256a6e140",
            "value": "config.json: 100%"
          }
        },
        "bf5a8994b82e40b69e403a6ec42a7614": {
          "model_module": "@jupyter-widgets/controls",
          "model_name": "FloatProgressModel",
          "model_module_version": "1.5.0",
          "state": {
            "_dom_classes": [],
            "_model_module": "@jupyter-widgets/controls",
            "_model_module_version": "1.5.0",
            "_model_name": "FloatProgressModel",
            "_view_count": null,
            "_view_module": "@jupyter-widgets/controls",
            "_view_module_version": "1.5.0",
            "_view_name": "ProgressView",
            "bar_style": "success",
            "description": "",
            "description_tooltip": null,
            "layout": "IPY_MODEL_c96805b5d8094fad8f52d36a02032879",
            "max": 570,
            "min": 0,
            "orientation": "horizontal",
            "style": "IPY_MODEL_e231f60b876248f6b60061b93b89197f",
            "value": 570
          }
        },
        "7b3b2c9c63ea407fa3ec680f840d55b1": {
          "model_module": "@jupyter-widgets/controls",
          "model_name": "HTMLModel",
          "model_module_version": "1.5.0",
          "state": {
            "_dom_classes": [],
            "_model_module": "@jupyter-widgets/controls",
            "_model_module_version": "1.5.0",
            "_model_name": "HTMLModel",
            "_view_count": null,
            "_view_module": "@jupyter-widgets/controls",
            "_view_module_version": "1.5.0",
            "_view_name": "HTMLView",
            "description": "",
            "description_tooltip": null,
            "layout": "IPY_MODEL_2b1829e7ad594234811193372f92b79c",
            "placeholder": "​",
            "style": "IPY_MODEL_550c874b4fdc4ddc9c27600fce4b12ca",
            "value": " 570/570 [00:00&lt;00:00, 33.2kB/s]"
          }
        },
        "c8537539e8e2411e919a8a17c2a76e12": {
          "model_module": "@jupyter-widgets/base",
          "model_name": "LayoutModel",
          "model_module_version": "1.2.0",
          "state": {
            "_model_module": "@jupyter-widgets/base",
            "_model_module_version": "1.2.0",
            "_model_name": "LayoutModel",
            "_view_count": null,
            "_view_module": "@jupyter-widgets/base",
            "_view_module_version": "1.2.0",
            "_view_name": "LayoutView",
            "align_content": null,
            "align_items": null,
            "align_self": null,
            "border": null,
            "bottom": null,
            "display": null,
            "flex": null,
            "flex_flow": null,
            "grid_area": null,
            "grid_auto_columns": null,
            "grid_auto_flow": null,
            "grid_auto_rows": null,
            "grid_column": null,
            "grid_gap": null,
            "grid_row": null,
            "grid_template_areas": null,
            "grid_template_columns": null,
            "grid_template_rows": null,
            "height": null,
            "justify_content": null,
            "justify_items": null,
            "left": null,
            "margin": null,
            "max_height": null,
            "max_width": null,
            "min_height": null,
            "min_width": null,
            "object_fit": null,
            "object_position": null,
            "order": null,
            "overflow": null,
            "overflow_x": null,
            "overflow_y": null,
            "padding": null,
            "right": null,
            "top": null,
            "visibility": null,
            "width": null
          }
        },
        "9ec435e0b8c84940a6f41184b890790d": {
          "model_module": "@jupyter-widgets/base",
          "model_name": "LayoutModel",
          "model_module_version": "1.2.0",
          "state": {
            "_model_module": "@jupyter-widgets/base",
            "_model_module_version": "1.2.0",
            "_model_name": "LayoutModel",
            "_view_count": null,
            "_view_module": "@jupyter-widgets/base",
            "_view_module_version": "1.2.0",
            "_view_name": "LayoutView",
            "align_content": null,
            "align_items": null,
            "align_self": null,
            "border": null,
            "bottom": null,
            "display": null,
            "flex": null,
            "flex_flow": null,
            "grid_area": null,
            "grid_auto_columns": null,
            "grid_auto_flow": null,
            "grid_auto_rows": null,
            "grid_column": null,
            "grid_gap": null,
            "grid_row": null,
            "grid_template_areas": null,
            "grid_template_columns": null,
            "grid_template_rows": null,
            "height": null,
            "justify_content": null,
            "justify_items": null,
            "left": null,
            "margin": null,
            "max_height": null,
            "max_width": null,
            "min_height": null,
            "min_width": null,
            "object_fit": null,
            "object_position": null,
            "order": null,
            "overflow": null,
            "overflow_x": null,
            "overflow_y": null,
            "padding": null,
            "right": null,
            "top": null,
            "visibility": null,
            "width": null
          }
        },
        "3920130d655a42f8a3cc57c256a6e140": {
          "model_module": "@jupyter-widgets/controls",
          "model_name": "DescriptionStyleModel",
          "model_module_version": "1.5.0",
          "state": {
            "_model_module": "@jupyter-widgets/controls",
            "_model_module_version": "1.5.0",
            "_model_name": "DescriptionStyleModel",
            "_view_count": null,
            "_view_module": "@jupyter-widgets/base",
            "_view_module_version": "1.2.0",
            "_view_name": "StyleView",
            "description_width": ""
          }
        },
        "c96805b5d8094fad8f52d36a02032879": {
          "model_module": "@jupyter-widgets/base",
          "model_name": "LayoutModel",
          "model_module_version": "1.2.0",
          "state": {
            "_model_module": "@jupyter-widgets/base",
            "_model_module_version": "1.2.0",
            "_model_name": "LayoutModel",
            "_view_count": null,
            "_view_module": "@jupyter-widgets/base",
            "_view_module_version": "1.2.0",
            "_view_name": "LayoutView",
            "align_content": null,
            "align_items": null,
            "align_self": null,
            "border": null,
            "bottom": null,
            "display": null,
            "flex": null,
            "flex_flow": null,
            "grid_area": null,
            "grid_auto_columns": null,
            "grid_auto_flow": null,
            "grid_auto_rows": null,
            "grid_column": null,
            "grid_gap": null,
            "grid_row": null,
            "grid_template_areas": null,
            "grid_template_columns": null,
            "grid_template_rows": null,
            "height": null,
            "justify_content": null,
            "justify_items": null,
            "left": null,
            "margin": null,
            "max_height": null,
            "max_width": null,
            "min_height": null,
            "min_width": null,
            "object_fit": null,
            "object_position": null,
            "order": null,
            "overflow": null,
            "overflow_x": null,
            "overflow_y": null,
            "padding": null,
            "right": null,
            "top": null,
            "visibility": null,
            "width": null
          }
        },
        "e231f60b876248f6b60061b93b89197f": {
          "model_module": "@jupyter-widgets/controls",
          "model_name": "ProgressStyleModel",
          "model_module_version": "1.5.0",
          "state": {
            "_model_module": "@jupyter-widgets/controls",
            "_model_module_version": "1.5.0",
            "_model_name": "ProgressStyleModel",
            "_view_count": null,
            "_view_module": "@jupyter-widgets/base",
            "_view_module_version": "1.2.0",
            "_view_name": "StyleView",
            "bar_color": null,
            "description_width": ""
          }
        },
        "2b1829e7ad594234811193372f92b79c": {
          "model_module": "@jupyter-widgets/base",
          "model_name": "LayoutModel",
          "model_module_version": "1.2.0",
          "state": {
            "_model_module": "@jupyter-widgets/base",
            "_model_module_version": "1.2.0",
            "_model_name": "LayoutModel",
            "_view_count": null,
            "_view_module": "@jupyter-widgets/base",
            "_view_module_version": "1.2.0",
            "_view_name": "LayoutView",
            "align_content": null,
            "align_items": null,
            "align_self": null,
            "border": null,
            "bottom": null,
            "display": null,
            "flex": null,
            "flex_flow": null,
            "grid_area": null,
            "grid_auto_columns": null,
            "grid_auto_flow": null,
            "grid_auto_rows": null,
            "grid_column": null,
            "grid_gap": null,
            "grid_row": null,
            "grid_template_areas": null,
            "grid_template_columns": null,
            "grid_template_rows": null,
            "height": null,
            "justify_content": null,
            "justify_items": null,
            "left": null,
            "margin": null,
            "max_height": null,
            "max_width": null,
            "min_height": null,
            "min_width": null,
            "object_fit": null,
            "object_position": null,
            "order": null,
            "overflow": null,
            "overflow_x": null,
            "overflow_y": null,
            "padding": null,
            "right": null,
            "top": null,
            "visibility": null,
            "width": null
          }
        },
        "550c874b4fdc4ddc9c27600fce4b12ca": {
          "model_module": "@jupyter-widgets/controls",
          "model_name": "DescriptionStyleModel",
          "model_module_version": "1.5.0",
          "state": {
            "_model_module": "@jupyter-widgets/controls",
            "_model_module_version": "1.5.0",
            "_model_name": "DescriptionStyleModel",
            "_view_count": null,
            "_view_module": "@jupyter-widgets/base",
            "_view_module_version": "1.2.0",
            "_view_name": "StyleView",
            "description_width": ""
          }
        },
        "25cc4a804a20420e9fe8486ecea6f2ba": {
          "model_module": "@jupyter-widgets/controls",
          "model_name": "HBoxModel",
          "model_module_version": "1.5.0",
          "state": {
            "_dom_classes": [],
            "_model_module": "@jupyter-widgets/controls",
            "_model_module_version": "1.5.0",
            "_model_name": "HBoxModel",
            "_view_count": null,
            "_view_module": "@jupyter-widgets/controls",
            "_view_module_version": "1.5.0",
            "_view_name": "HBoxView",
            "box_style": "",
            "children": [
              "IPY_MODEL_02f1618b9e4f4a3d81364f4a96562e83",
              "IPY_MODEL_41ab2c64f6eb4cccb495fdcb818ed20e",
              "IPY_MODEL_2ba557e431d148d2b59156e4f37c49cd"
            ],
            "layout": "IPY_MODEL_38fca34a6c4a4308ade3de110a65498f"
          }
        },
        "02f1618b9e4f4a3d81364f4a96562e83": {
          "model_module": "@jupyter-widgets/controls",
          "model_name": "HTMLModel",
          "model_module_version": "1.5.0",
          "state": {
            "_dom_classes": [],
            "_model_module": "@jupyter-widgets/controls",
            "_model_module_version": "1.5.0",
            "_model_name": "HTMLModel",
            "_view_count": null,
            "_view_module": "@jupyter-widgets/controls",
            "_view_module_version": "1.5.0",
            "_view_name": "HTMLView",
            "description": "",
            "description_tooltip": null,
            "layout": "IPY_MODEL_12fd1d23cc6d4db5b28cd533c3fcc9a3",
            "placeholder": "​",
            "style": "IPY_MODEL_1d4e06a4fdaa439cb7b1e58fa7746053",
            "value": "vocab.txt: 100%"
          }
        },
        "41ab2c64f6eb4cccb495fdcb818ed20e": {
          "model_module": "@jupyter-widgets/controls",
          "model_name": "FloatProgressModel",
          "model_module_version": "1.5.0",
          "state": {
            "_dom_classes": [],
            "_model_module": "@jupyter-widgets/controls",
            "_model_module_version": "1.5.0",
            "_model_name": "FloatProgressModel",
            "_view_count": null,
            "_view_module": "@jupyter-widgets/controls",
            "_view_module_version": "1.5.0",
            "_view_name": "ProgressView",
            "bar_style": "success",
            "description": "",
            "description_tooltip": null,
            "layout": "IPY_MODEL_3857d47ce2414272adf68137cf319ac5",
            "max": 213450,
            "min": 0,
            "orientation": "horizontal",
            "style": "IPY_MODEL_ddded48305ef4514999ed9387c99a0a3",
            "value": 213450
          }
        },
        "2ba557e431d148d2b59156e4f37c49cd": {
          "model_module": "@jupyter-widgets/controls",
          "model_name": "HTMLModel",
          "model_module_version": "1.5.0",
          "state": {
            "_dom_classes": [],
            "_model_module": "@jupyter-widgets/controls",
            "_model_module_version": "1.5.0",
            "_model_name": "HTMLModel",
            "_view_count": null,
            "_view_module": "@jupyter-widgets/controls",
            "_view_module_version": "1.5.0",
            "_view_name": "HTMLView",
            "description": "",
            "description_tooltip": null,
            "layout": "IPY_MODEL_9faa26e3a6174f0aad9a04b76ba2028d",
            "placeholder": "​",
            "style": "IPY_MODEL_f12e149716494e8cb00eee9fb332787b",
            "value": " 213k/213k [00:00&lt;00:00, 10.4MB/s]"
          }
        },
        "38fca34a6c4a4308ade3de110a65498f": {
          "model_module": "@jupyter-widgets/base",
          "model_name": "LayoutModel",
          "model_module_version": "1.2.0",
          "state": {
            "_model_module": "@jupyter-widgets/base",
            "_model_module_version": "1.2.0",
            "_model_name": "LayoutModel",
            "_view_count": null,
            "_view_module": "@jupyter-widgets/base",
            "_view_module_version": "1.2.0",
            "_view_name": "LayoutView",
            "align_content": null,
            "align_items": null,
            "align_self": null,
            "border": null,
            "bottom": null,
            "display": null,
            "flex": null,
            "flex_flow": null,
            "grid_area": null,
            "grid_auto_columns": null,
            "grid_auto_flow": null,
            "grid_auto_rows": null,
            "grid_column": null,
            "grid_gap": null,
            "grid_row": null,
            "grid_template_areas": null,
            "grid_template_columns": null,
            "grid_template_rows": null,
            "height": null,
            "justify_content": null,
            "justify_items": null,
            "left": null,
            "margin": null,
            "max_height": null,
            "max_width": null,
            "min_height": null,
            "min_width": null,
            "object_fit": null,
            "object_position": null,
            "order": null,
            "overflow": null,
            "overflow_x": null,
            "overflow_y": null,
            "padding": null,
            "right": null,
            "top": null,
            "visibility": null,
            "width": null
          }
        },
        "12fd1d23cc6d4db5b28cd533c3fcc9a3": {
          "model_module": "@jupyter-widgets/base",
          "model_name": "LayoutModel",
          "model_module_version": "1.2.0",
          "state": {
            "_model_module": "@jupyter-widgets/base",
            "_model_module_version": "1.2.0",
            "_model_name": "LayoutModel",
            "_view_count": null,
            "_view_module": "@jupyter-widgets/base",
            "_view_module_version": "1.2.0",
            "_view_name": "LayoutView",
            "align_content": null,
            "align_items": null,
            "align_self": null,
            "border": null,
            "bottom": null,
            "display": null,
            "flex": null,
            "flex_flow": null,
            "grid_area": null,
            "grid_auto_columns": null,
            "grid_auto_flow": null,
            "grid_auto_rows": null,
            "grid_column": null,
            "grid_gap": null,
            "grid_row": null,
            "grid_template_areas": null,
            "grid_template_columns": null,
            "grid_template_rows": null,
            "height": null,
            "justify_content": null,
            "justify_items": null,
            "left": null,
            "margin": null,
            "max_height": null,
            "max_width": null,
            "min_height": null,
            "min_width": null,
            "object_fit": null,
            "object_position": null,
            "order": null,
            "overflow": null,
            "overflow_x": null,
            "overflow_y": null,
            "padding": null,
            "right": null,
            "top": null,
            "visibility": null,
            "width": null
          }
        },
        "1d4e06a4fdaa439cb7b1e58fa7746053": {
          "model_module": "@jupyter-widgets/controls",
          "model_name": "DescriptionStyleModel",
          "model_module_version": "1.5.0",
          "state": {
            "_model_module": "@jupyter-widgets/controls",
            "_model_module_version": "1.5.0",
            "_model_name": "DescriptionStyleModel",
            "_view_count": null,
            "_view_module": "@jupyter-widgets/base",
            "_view_module_version": "1.2.0",
            "_view_name": "StyleView",
            "description_width": ""
          }
        },
        "3857d47ce2414272adf68137cf319ac5": {
          "model_module": "@jupyter-widgets/base",
          "model_name": "LayoutModel",
          "model_module_version": "1.2.0",
          "state": {
            "_model_module": "@jupyter-widgets/base",
            "_model_module_version": "1.2.0",
            "_model_name": "LayoutModel",
            "_view_count": null,
            "_view_module": "@jupyter-widgets/base",
            "_view_module_version": "1.2.0",
            "_view_name": "LayoutView",
            "align_content": null,
            "align_items": null,
            "align_self": null,
            "border": null,
            "bottom": null,
            "display": null,
            "flex": null,
            "flex_flow": null,
            "grid_area": null,
            "grid_auto_columns": null,
            "grid_auto_flow": null,
            "grid_auto_rows": null,
            "grid_column": null,
            "grid_gap": null,
            "grid_row": null,
            "grid_template_areas": null,
            "grid_template_columns": null,
            "grid_template_rows": null,
            "height": null,
            "justify_content": null,
            "justify_items": null,
            "left": null,
            "margin": null,
            "max_height": null,
            "max_width": null,
            "min_height": null,
            "min_width": null,
            "object_fit": null,
            "object_position": null,
            "order": null,
            "overflow": null,
            "overflow_x": null,
            "overflow_y": null,
            "padding": null,
            "right": null,
            "top": null,
            "visibility": null,
            "width": null
          }
        },
        "ddded48305ef4514999ed9387c99a0a3": {
          "model_module": "@jupyter-widgets/controls",
          "model_name": "ProgressStyleModel",
          "model_module_version": "1.5.0",
          "state": {
            "_model_module": "@jupyter-widgets/controls",
            "_model_module_version": "1.5.0",
            "_model_name": "ProgressStyleModel",
            "_view_count": null,
            "_view_module": "@jupyter-widgets/base",
            "_view_module_version": "1.2.0",
            "_view_name": "StyleView",
            "bar_color": null,
            "description_width": ""
          }
        },
        "9faa26e3a6174f0aad9a04b76ba2028d": {
          "model_module": "@jupyter-widgets/base",
          "model_name": "LayoutModel",
          "model_module_version": "1.2.0",
          "state": {
            "_model_module": "@jupyter-widgets/base",
            "_model_module_version": "1.2.0",
            "_model_name": "LayoutModel",
            "_view_count": null,
            "_view_module": "@jupyter-widgets/base",
            "_view_module_version": "1.2.0",
            "_view_name": "LayoutView",
            "align_content": null,
            "align_items": null,
            "align_self": null,
            "border": null,
            "bottom": null,
            "display": null,
            "flex": null,
            "flex_flow": null,
            "grid_area": null,
            "grid_auto_columns": null,
            "grid_auto_flow": null,
            "grid_auto_rows": null,
            "grid_column": null,
            "grid_gap": null,
            "grid_row": null,
            "grid_template_areas": null,
            "grid_template_columns": null,
            "grid_template_rows": null,
            "height": null,
            "justify_content": null,
            "justify_items": null,
            "left": null,
            "margin": null,
            "max_height": null,
            "max_width": null,
            "min_height": null,
            "min_width": null,
            "object_fit": null,
            "object_position": null,
            "order": null,
            "overflow": null,
            "overflow_x": null,
            "overflow_y": null,
            "padding": null,
            "right": null,
            "top": null,
            "visibility": null,
            "width": null
          }
        },
        "f12e149716494e8cb00eee9fb332787b": {
          "model_module": "@jupyter-widgets/controls",
          "model_name": "DescriptionStyleModel",
          "model_module_version": "1.5.0",
          "state": {
            "_model_module": "@jupyter-widgets/controls",
            "_model_module_version": "1.5.0",
            "_model_name": "DescriptionStyleModel",
            "_view_count": null,
            "_view_module": "@jupyter-widgets/base",
            "_view_module_version": "1.2.0",
            "_view_name": "StyleView",
            "description_width": ""
          }
        },
        "3da6f2cdb47947c09fc2132b9f5c971b": {
          "model_module": "@jupyter-widgets/controls",
          "model_name": "HBoxModel",
          "model_module_version": "1.5.0",
          "state": {
            "_dom_classes": [],
            "_model_module": "@jupyter-widgets/controls",
            "_model_module_version": "1.5.0",
            "_model_name": "HBoxModel",
            "_view_count": null,
            "_view_module": "@jupyter-widgets/controls",
            "_view_module_version": "1.5.0",
            "_view_name": "HBoxView",
            "box_style": "",
            "children": [
              "IPY_MODEL_d016f2e129ca454ab52c81e2992e039f",
              "IPY_MODEL_3595a787456042a89e7f370da75fa26c",
              "IPY_MODEL_a8860f90f9ac4fa68e0f9bebde6acfff"
            ],
            "layout": "IPY_MODEL_abeccc6f454145f28281618355a30011"
          }
        },
        "d016f2e129ca454ab52c81e2992e039f": {
          "model_module": "@jupyter-widgets/controls",
          "model_name": "HTMLModel",
          "model_module_version": "1.5.0",
          "state": {
            "_dom_classes": [],
            "_model_module": "@jupyter-widgets/controls",
            "_model_module_version": "1.5.0",
            "_model_name": "HTMLModel",
            "_view_count": null,
            "_view_module": "@jupyter-widgets/controls",
            "_view_module_version": "1.5.0",
            "_view_name": "HTMLView",
            "description": "",
            "description_tooltip": null,
            "layout": "IPY_MODEL_edc2c7e186b6457986a05f1526908056",
            "placeholder": "​",
            "style": "IPY_MODEL_debd6b1d298a4a30a2b93dd80a8dd97c",
            "value": "tokenizer.json: 100%"
          }
        },
        "3595a787456042a89e7f370da75fa26c": {
          "model_module": "@jupyter-widgets/controls",
          "model_name": "FloatProgressModel",
          "model_module_version": "1.5.0",
          "state": {
            "_dom_classes": [],
            "_model_module": "@jupyter-widgets/controls",
            "_model_module_version": "1.5.0",
            "_model_name": "FloatProgressModel",
            "_view_count": null,
            "_view_module": "@jupyter-widgets/controls",
            "_view_module_version": "1.5.0",
            "_view_name": "ProgressView",
            "bar_style": "success",
            "description": "",
            "description_tooltip": null,
            "layout": "IPY_MODEL_41b27927bbed45fc86c5aaa24ee58ee5",
            "max": 435797,
            "min": 0,
            "orientation": "horizontal",
            "style": "IPY_MODEL_77e5230e97ca424e906093f9c2338b3e",
            "value": 435797
          }
        },
        "a8860f90f9ac4fa68e0f9bebde6acfff": {
          "model_module": "@jupyter-widgets/controls",
          "model_name": "HTMLModel",
          "model_module_version": "1.5.0",
          "state": {
            "_dom_classes": [],
            "_model_module": "@jupyter-widgets/controls",
            "_model_module_version": "1.5.0",
            "_model_name": "HTMLModel",
            "_view_count": null,
            "_view_module": "@jupyter-widgets/controls",
            "_view_module_version": "1.5.0",
            "_view_name": "HTMLView",
            "description": "",
            "description_tooltip": null,
            "layout": "IPY_MODEL_6f5b59e3de6d4856b0b5e43a5b296003",
            "placeholder": "​",
            "style": "IPY_MODEL_37b12a5b9cdc4d95a9ac788be556e211",
            "value": " 436k/436k [00:00&lt;00:00, 25.4MB/s]"
          }
        },
        "abeccc6f454145f28281618355a30011": {
          "model_module": "@jupyter-widgets/base",
          "model_name": "LayoutModel",
          "model_module_version": "1.2.0",
          "state": {
            "_model_module": "@jupyter-widgets/base",
            "_model_module_version": "1.2.0",
            "_model_name": "LayoutModel",
            "_view_count": null,
            "_view_module": "@jupyter-widgets/base",
            "_view_module_version": "1.2.0",
            "_view_name": "LayoutView",
            "align_content": null,
            "align_items": null,
            "align_self": null,
            "border": null,
            "bottom": null,
            "display": null,
            "flex": null,
            "flex_flow": null,
            "grid_area": null,
            "grid_auto_columns": null,
            "grid_auto_flow": null,
            "grid_auto_rows": null,
            "grid_column": null,
            "grid_gap": null,
            "grid_row": null,
            "grid_template_areas": null,
            "grid_template_columns": null,
            "grid_template_rows": null,
            "height": null,
            "justify_content": null,
            "justify_items": null,
            "left": null,
            "margin": null,
            "max_height": null,
            "max_width": null,
            "min_height": null,
            "min_width": null,
            "object_fit": null,
            "object_position": null,
            "order": null,
            "overflow": null,
            "overflow_x": null,
            "overflow_y": null,
            "padding": null,
            "right": null,
            "top": null,
            "visibility": null,
            "width": null
          }
        },
        "edc2c7e186b6457986a05f1526908056": {
          "model_module": "@jupyter-widgets/base",
          "model_name": "LayoutModel",
          "model_module_version": "1.2.0",
          "state": {
            "_model_module": "@jupyter-widgets/base",
            "_model_module_version": "1.2.0",
            "_model_name": "LayoutModel",
            "_view_count": null,
            "_view_module": "@jupyter-widgets/base",
            "_view_module_version": "1.2.0",
            "_view_name": "LayoutView",
            "align_content": null,
            "align_items": null,
            "align_self": null,
            "border": null,
            "bottom": null,
            "display": null,
            "flex": null,
            "flex_flow": null,
            "grid_area": null,
            "grid_auto_columns": null,
            "grid_auto_flow": null,
            "grid_auto_rows": null,
            "grid_column": null,
            "grid_gap": null,
            "grid_row": null,
            "grid_template_areas": null,
            "grid_template_columns": null,
            "grid_template_rows": null,
            "height": null,
            "justify_content": null,
            "justify_items": null,
            "left": null,
            "margin": null,
            "max_height": null,
            "max_width": null,
            "min_height": null,
            "min_width": null,
            "object_fit": null,
            "object_position": null,
            "order": null,
            "overflow": null,
            "overflow_x": null,
            "overflow_y": null,
            "padding": null,
            "right": null,
            "top": null,
            "visibility": null,
            "width": null
          }
        },
        "debd6b1d298a4a30a2b93dd80a8dd97c": {
          "model_module": "@jupyter-widgets/controls",
          "model_name": "DescriptionStyleModel",
          "model_module_version": "1.5.0",
          "state": {
            "_model_module": "@jupyter-widgets/controls",
            "_model_module_version": "1.5.0",
            "_model_name": "DescriptionStyleModel",
            "_view_count": null,
            "_view_module": "@jupyter-widgets/base",
            "_view_module_version": "1.2.0",
            "_view_name": "StyleView",
            "description_width": ""
          }
        },
        "41b27927bbed45fc86c5aaa24ee58ee5": {
          "model_module": "@jupyter-widgets/base",
          "model_name": "LayoutModel",
          "model_module_version": "1.2.0",
          "state": {
            "_model_module": "@jupyter-widgets/base",
            "_model_module_version": "1.2.0",
            "_model_name": "LayoutModel",
            "_view_count": null,
            "_view_module": "@jupyter-widgets/base",
            "_view_module_version": "1.2.0",
            "_view_name": "LayoutView",
            "align_content": null,
            "align_items": null,
            "align_self": null,
            "border": null,
            "bottom": null,
            "display": null,
            "flex": null,
            "flex_flow": null,
            "grid_area": null,
            "grid_auto_columns": null,
            "grid_auto_flow": null,
            "grid_auto_rows": null,
            "grid_column": null,
            "grid_gap": null,
            "grid_row": null,
            "grid_template_areas": null,
            "grid_template_columns": null,
            "grid_template_rows": null,
            "height": null,
            "justify_content": null,
            "justify_items": null,
            "left": null,
            "margin": null,
            "max_height": null,
            "max_width": null,
            "min_height": null,
            "min_width": null,
            "object_fit": null,
            "object_position": null,
            "order": null,
            "overflow": null,
            "overflow_x": null,
            "overflow_y": null,
            "padding": null,
            "right": null,
            "top": null,
            "visibility": null,
            "width": null
          }
        },
        "77e5230e97ca424e906093f9c2338b3e": {
          "model_module": "@jupyter-widgets/controls",
          "model_name": "ProgressStyleModel",
          "model_module_version": "1.5.0",
          "state": {
            "_model_module": "@jupyter-widgets/controls",
            "_model_module_version": "1.5.0",
            "_model_name": "ProgressStyleModel",
            "_view_count": null,
            "_view_module": "@jupyter-widgets/base",
            "_view_module_version": "1.2.0",
            "_view_name": "StyleView",
            "bar_color": null,
            "description_width": ""
          }
        },
        "6f5b59e3de6d4856b0b5e43a5b296003": {
          "model_module": "@jupyter-widgets/base",
          "model_name": "LayoutModel",
          "model_module_version": "1.2.0",
          "state": {
            "_model_module": "@jupyter-widgets/base",
            "_model_module_version": "1.2.0",
            "_model_name": "LayoutModel",
            "_view_count": null,
            "_view_module": "@jupyter-widgets/base",
            "_view_module_version": "1.2.0",
            "_view_name": "LayoutView",
            "align_content": null,
            "align_items": null,
            "align_self": null,
            "border": null,
            "bottom": null,
            "display": null,
            "flex": null,
            "flex_flow": null,
            "grid_area": null,
            "grid_auto_columns": null,
            "grid_auto_flow": null,
            "grid_auto_rows": null,
            "grid_column": null,
            "grid_gap": null,
            "grid_row": null,
            "grid_template_areas": null,
            "grid_template_columns": null,
            "grid_template_rows": null,
            "height": null,
            "justify_content": null,
            "justify_items": null,
            "left": null,
            "margin": null,
            "max_height": null,
            "max_width": null,
            "min_height": null,
            "min_width": null,
            "object_fit": null,
            "object_position": null,
            "order": null,
            "overflow": null,
            "overflow_x": null,
            "overflow_y": null,
            "padding": null,
            "right": null,
            "top": null,
            "visibility": null,
            "width": null
          }
        },
        "37b12a5b9cdc4d95a9ac788be556e211": {
          "model_module": "@jupyter-widgets/controls",
          "model_name": "DescriptionStyleModel",
          "model_module_version": "1.5.0",
          "state": {
            "_model_module": "@jupyter-widgets/controls",
            "_model_module_version": "1.5.0",
            "_model_name": "DescriptionStyleModel",
            "_view_count": null,
            "_view_module": "@jupyter-widgets/base",
            "_view_module_version": "1.2.0",
            "_view_name": "StyleView",
            "description_width": ""
          }
        },
        "1f0c498c804d40c3bcc3a709b3a82836": {
          "model_module": "@jupyter-widgets/controls",
          "model_name": "HBoxModel",
          "model_module_version": "1.5.0",
          "state": {
            "_dom_classes": [],
            "_model_module": "@jupyter-widgets/controls",
            "_model_module_version": "1.5.0",
            "_model_name": "HBoxModel",
            "_view_count": null,
            "_view_module": "@jupyter-widgets/controls",
            "_view_module_version": "1.5.0",
            "_view_name": "HBoxView",
            "box_style": "",
            "children": [
              "IPY_MODEL_89bd68b26f594c99b86c786d8eec8288",
              "IPY_MODEL_8840b0a129e048ad90dd515c015927b7",
              "IPY_MODEL_eeae19b2873842e1953404c20a88d99c"
            ],
            "layout": "IPY_MODEL_4f4dbc100c404274bbe971bf3889fe7c"
          }
        },
        "89bd68b26f594c99b86c786d8eec8288": {
          "model_module": "@jupyter-widgets/controls",
          "model_name": "HTMLModel",
          "model_module_version": "1.5.0",
          "state": {
            "_dom_classes": [],
            "_model_module": "@jupyter-widgets/controls",
            "_model_module_version": "1.5.0",
            "_model_name": "HTMLModel",
            "_view_count": null,
            "_view_module": "@jupyter-widgets/controls",
            "_view_module_version": "1.5.0",
            "_view_name": "HTMLView",
            "description": "",
            "description_tooltip": null,
            "layout": "IPY_MODEL_7b87f4b003244725ac7ab11141445310",
            "placeholder": "​",
            "style": "IPY_MODEL_830661b8237e41f8bbc791f7a54838eb",
            "value": "Downloading builder script: 100%"
          }
        },
        "8840b0a129e048ad90dd515c015927b7": {
          "model_module": "@jupyter-widgets/controls",
          "model_name": "FloatProgressModel",
          "model_module_version": "1.5.0",
          "state": {
            "_dom_classes": [],
            "_model_module": "@jupyter-widgets/controls",
            "_model_module_version": "1.5.0",
            "_model_name": "FloatProgressModel",
            "_view_count": null,
            "_view_module": "@jupyter-widgets/controls",
            "_view_module_version": "1.5.0",
            "_view_name": "ProgressView",
            "bar_style": "success",
            "description": "",
            "description_tooltip": null,
            "layout": "IPY_MODEL_98d0af952ea943679da5e690913364e7",
            "max": 6338,
            "min": 0,
            "orientation": "horizontal",
            "style": "IPY_MODEL_91f1c6d008c741b5b294dbb21c0af4b1",
            "value": 6338
          }
        },
        "eeae19b2873842e1953404c20a88d99c": {
          "model_module": "@jupyter-widgets/controls",
          "model_name": "HTMLModel",
          "model_module_version": "1.5.0",
          "state": {
            "_dom_classes": [],
            "_model_module": "@jupyter-widgets/controls",
            "_model_module_version": "1.5.0",
            "_model_name": "HTMLModel",
            "_view_count": null,
            "_view_module": "@jupyter-widgets/controls",
            "_view_module_version": "1.5.0",
            "_view_name": "HTMLView",
            "description": "",
            "description_tooltip": null,
            "layout": "IPY_MODEL_af8695ec72e54517acc0daeb138bd36a",
            "placeholder": "​",
            "style": "IPY_MODEL_c1ed7b6180f54d52844d01f3a0de14d5",
            "value": " 6.34k/6.34k [00:00&lt;00:00, 103kB/s]"
          }
        },
        "4f4dbc100c404274bbe971bf3889fe7c": {
          "model_module": "@jupyter-widgets/base",
          "model_name": "LayoutModel",
          "model_module_version": "1.2.0",
          "state": {
            "_model_module": "@jupyter-widgets/base",
            "_model_module_version": "1.2.0",
            "_model_name": "LayoutModel",
            "_view_count": null,
            "_view_module": "@jupyter-widgets/base",
            "_view_module_version": "1.2.0",
            "_view_name": "LayoutView",
            "align_content": null,
            "align_items": null,
            "align_self": null,
            "border": null,
            "bottom": null,
            "display": null,
            "flex": null,
            "flex_flow": null,
            "grid_area": null,
            "grid_auto_columns": null,
            "grid_auto_flow": null,
            "grid_auto_rows": null,
            "grid_column": null,
            "grid_gap": null,
            "grid_row": null,
            "grid_template_areas": null,
            "grid_template_columns": null,
            "grid_template_rows": null,
            "height": null,
            "justify_content": null,
            "justify_items": null,
            "left": null,
            "margin": null,
            "max_height": null,
            "max_width": null,
            "min_height": null,
            "min_width": null,
            "object_fit": null,
            "object_position": null,
            "order": null,
            "overflow": null,
            "overflow_x": null,
            "overflow_y": null,
            "padding": null,
            "right": null,
            "top": null,
            "visibility": null,
            "width": null
          }
        },
        "7b87f4b003244725ac7ab11141445310": {
          "model_module": "@jupyter-widgets/base",
          "model_name": "LayoutModel",
          "model_module_version": "1.2.0",
          "state": {
            "_model_module": "@jupyter-widgets/base",
            "_model_module_version": "1.2.0",
            "_model_name": "LayoutModel",
            "_view_count": null,
            "_view_module": "@jupyter-widgets/base",
            "_view_module_version": "1.2.0",
            "_view_name": "LayoutView",
            "align_content": null,
            "align_items": null,
            "align_self": null,
            "border": null,
            "bottom": null,
            "display": null,
            "flex": null,
            "flex_flow": null,
            "grid_area": null,
            "grid_auto_columns": null,
            "grid_auto_flow": null,
            "grid_auto_rows": null,
            "grid_column": null,
            "grid_gap": null,
            "grid_row": null,
            "grid_template_areas": null,
            "grid_template_columns": null,
            "grid_template_rows": null,
            "height": null,
            "justify_content": null,
            "justify_items": null,
            "left": null,
            "margin": null,
            "max_height": null,
            "max_width": null,
            "min_height": null,
            "min_width": null,
            "object_fit": null,
            "object_position": null,
            "order": null,
            "overflow": null,
            "overflow_x": null,
            "overflow_y": null,
            "padding": null,
            "right": null,
            "top": null,
            "visibility": null,
            "width": null
          }
        },
        "830661b8237e41f8bbc791f7a54838eb": {
          "model_module": "@jupyter-widgets/controls",
          "model_name": "DescriptionStyleModel",
          "model_module_version": "1.5.0",
          "state": {
            "_model_module": "@jupyter-widgets/controls",
            "_model_module_version": "1.5.0",
            "_model_name": "DescriptionStyleModel",
            "_view_count": null,
            "_view_module": "@jupyter-widgets/base",
            "_view_module_version": "1.2.0",
            "_view_name": "StyleView",
            "description_width": ""
          }
        },
        "98d0af952ea943679da5e690913364e7": {
          "model_module": "@jupyter-widgets/base",
          "model_name": "LayoutModel",
          "model_module_version": "1.2.0",
          "state": {
            "_model_module": "@jupyter-widgets/base",
            "_model_module_version": "1.2.0",
            "_model_name": "LayoutModel",
            "_view_count": null,
            "_view_module": "@jupyter-widgets/base",
            "_view_module_version": "1.2.0",
            "_view_name": "LayoutView",
            "align_content": null,
            "align_items": null,
            "align_self": null,
            "border": null,
            "bottom": null,
            "display": null,
            "flex": null,
            "flex_flow": null,
            "grid_area": null,
            "grid_auto_columns": null,
            "grid_auto_flow": null,
            "grid_auto_rows": null,
            "grid_column": null,
            "grid_gap": null,
            "grid_row": null,
            "grid_template_areas": null,
            "grid_template_columns": null,
            "grid_template_rows": null,
            "height": null,
            "justify_content": null,
            "justify_items": null,
            "left": null,
            "margin": null,
            "max_height": null,
            "max_width": null,
            "min_height": null,
            "min_width": null,
            "object_fit": null,
            "object_position": null,
            "order": null,
            "overflow": null,
            "overflow_x": null,
            "overflow_y": null,
            "padding": null,
            "right": null,
            "top": null,
            "visibility": null,
            "width": null
          }
        },
        "91f1c6d008c741b5b294dbb21c0af4b1": {
          "model_module": "@jupyter-widgets/controls",
          "model_name": "ProgressStyleModel",
          "model_module_version": "1.5.0",
          "state": {
            "_model_module": "@jupyter-widgets/controls",
            "_model_module_version": "1.5.0",
            "_model_name": "ProgressStyleModel",
            "_view_count": null,
            "_view_module": "@jupyter-widgets/base",
            "_view_module_version": "1.2.0",
            "_view_name": "StyleView",
            "bar_color": null,
            "description_width": ""
          }
        },
        "af8695ec72e54517acc0daeb138bd36a": {
          "model_module": "@jupyter-widgets/base",
          "model_name": "LayoutModel",
          "model_module_version": "1.2.0",
          "state": {
            "_model_module": "@jupyter-widgets/base",
            "_model_module_version": "1.2.0",
            "_model_name": "LayoutModel",
            "_view_count": null,
            "_view_module": "@jupyter-widgets/base",
            "_view_module_version": "1.2.0",
            "_view_name": "LayoutView",
            "align_content": null,
            "align_items": null,
            "align_self": null,
            "border": null,
            "bottom": null,
            "display": null,
            "flex": null,
            "flex_flow": null,
            "grid_area": null,
            "grid_auto_columns": null,
            "grid_auto_flow": null,
            "grid_auto_rows": null,
            "grid_column": null,
            "grid_gap": null,
            "grid_row": null,
            "grid_template_areas": null,
            "grid_template_columns": null,
            "grid_template_rows": null,
            "height": null,
            "justify_content": null,
            "justify_items": null,
            "left": null,
            "margin": null,
            "max_height": null,
            "max_width": null,
            "min_height": null,
            "min_width": null,
            "object_fit": null,
            "object_position": null,
            "order": null,
            "overflow": null,
            "overflow_x": null,
            "overflow_y": null,
            "padding": null,
            "right": null,
            "top": null,
            "visibility": null,
            "width": null
          }
        },
        "c1ed7b6180f54d52844d01f3a0de14d5": {
          "model_module": "@jupyter-widgets/controls",
          "model_name": "DescriptionStyleModel",
          "model_module_version": "1.5.0",
          "state": {
            "_model_module": "@jupyter-widgets/controls",
            "_model_module_version": "1.5.0",
            "_model_name": "DescriptionStyleModel",
            "_view_count": null,
            "_view_module": "@jupyter-widgets/base",
            "_view_module_version": "1.2.0",
            "_view_name": "StyleView",
            "description_width": ""
          }
        },
        "70475c3b0e454a6fb7cbb9563aa70e01": {
          "model_module": "@jupyter-widgets/controls",
          "model_name": "HBoxModel",
          "model_module_version": "1.5.0",
          "state": {
            "_dom_classes": [],
            "_model_module": "@jupyter-widgets/controls",
            "_model_module_version": "1.5.0",
            "_model_name": "HBoxModel",
            "_view_count": null,
            "_view_module": "@jupyter-widgets/controls",
            "_view_module_version": "1.5.0",
            "_view_name": "HBoxView",
            "box_style": "",
            "children": [
              "IPY_MODEL_2829d076c2054bfab67320aca2d0dd22",
              "IPY_MODEL_591dac547107441d878cecab93bbdfb2",
              "IPY_MODEL_742b8e60809d45a196d8ec2797aaa941"
            ],
            "layout": "IPY_MODEL_b7a5c84de5f542ba9b0f6dbeab63d169"
          }
        },
        "2829d076c2054bfab67320aca2d0dd22": {
          "model_module": "@jupyter-widgets/controls",
          "model_name": "HTMLModel",
          "model_module_version": "1.5.0",
          "state": {
            "_dom_classes": [],
            "_model_module": "@jupyter-widgets/controls",
            "_model_module_version": "1.5.0",
            "_model_name": "HTMLModel",
            "_view_count": null,
            "_view_module": "@jupyter-widgets/controls",
            "_view_module_version": "1.5.0",
            "_view_name": "HTMLView",
            "description": "",
            "description_tooltip": null,
            "layout": "IPY_MODEL_39dbdfd37aec496dae66eac537526b71",
            "placeholder": "​",
            "style": "IPY_MODEL_c257ca84f6f64fdf8d21e82b753f618d",
            "value": "model.safetensors: 100%"
          }
        },
        "591dac547107441d878cecab93bbdfb2": {
          "model_module": "@jupyter-widgets/controls",
          "model_name": "FloatProgressModel",
          "model_module_version": "1.5.0",
          "state": {
            "_dom_classes": [],
            "_model_module": "@jupyter-widgets/controls",
            "_model_module_version": "1.5.0",
            "_model_name": "FloatProgressModel",
            "_view_count": null,
            "_view_module": "@jupyter-widgets/controls",
            "_view_module_version": "1.5.0",
            "_view_name": "ProgressView",
            "bar_style": "success",
            "description": "",
            "description_tooltip": null,
            "layout": "IPY_MODEL_4260d8cb8df44077b94bc7ce9e237731",
            "max": 435755784,
            "min": 0,
            "orientation": "horizontal",
            "style": "IPY_MODEL_f1e2fab2b9774e958d4fda6feb1756ef",
            "value": 435755784
          }
        },
        "742b8e60809d45a196d8ec2797aaa941": {
          "model_module": "@jupyter-widgets/controls",
          "model_name": "HTMLModel",
          "model_module_version": "1.5.0",
          "state": {
            "_dom_classes": [],
            "_model_module": "@jupyter-widgets/controls",
            "_model_module_version": "1.5.0",
            "_model_name": "HTMLModel",
            "_view_count": null,
            "_view_module": "@jupyter-widgets/controls",
            "_view_module_version": "1.5.0",
            "_view_name": "HTMLView",
            "description": "",
            "description_tooltip": null,
            "layout": "IPY_MODEL_bcf53ab7333e4ade9a2bb621146a584d",
            "placeholder": "​",
            "style": "IPY_MODEL_95f4b4240553436bbfad3a622627b549",
            "value": " 436M/436M [00:04&lt;00:00, 153MB/s]"
          }
        },
        "b7a5c84de5f542ba9b0f6dbeab63d169": {
          "model_module": "@jupyter-widgets/base",
          "model_name": "LayoutModel",
          "model_module_version": "1.2.0",
          "state": {
            "_model_module": "@jupyter-widgets/base",
            "_model_module_version": "1.2.0",
            "_model_name": "LayoutModel",
            "_view_count": null,
            "_view_module": "@jupyter-widgets/base",
            "_view_module_version": "1.2.0",
            "_view_name": "LayoutView",
            "align_content": null,
            "align_items": null,
            "align_self": null,
            "border": null,
            "bottom": null,
            "display": null,
            "flex": null,
            "flex_flow": null,
            "grid_area": null,
            "grid_auto_columns": null,
            "grid_auto_flow": null,
            "grid_auto_rows": null,
            "grid_column": null,
            "grid_gap": null,
            "grid_row": null,
            "grid_template_areas": null,
            "grid_template_columns": null,
            "grid_template_rows": null,
            "height": null,
            "justify_content": null,
            "justify_items": null,
            "left": null,
            "margin": null,
            "max_height": null,
            "max_width": null,
            "min_height": null,
            "min_width": null,
            "object_fit": null,
            "object_position": null,
            "order": null,
            "overflow": null,
            "overflow_x": null,
            "overflow_y": null,
            "padding": null,
            "right": null,
            "top": null,
            "visibility": null,
            "width": null
          }
        },
        "39dbdfd37aec496dae66eac537526b71": {
          "model_module": "@jupyter-widgets/base",
          "model_name": "LayoutModel",
          "model_module_version": "1.2.0",
          "state": {
            "_model_module": "@jupyter-widgets/base",
            "_model_module_version": "1.2.0",
            "_model_name": "LayoutModel",
            "_view_count": null,
            "_view_module": "@jupyter-widgets/base",
            "_view_module_version": "1.2.0",
            "_view_name": "LayoutView",
            "align_content": null,
            "align_items": null,
            "align_self": null,
            "border": null,
            "bottom": null,
            "display": null,
            "flex": null,
            "flex_flow": null,
            "grid_area": null,
            "grid_auto_columns": null,
            "grid_auto_flow": null,
            "grid_auto_rows": null,
            "grid_column": null,
            "grid_gap": null,
            "grid_row": null,
            "grid_template_areas": null,
            "grid_template_columns": null,
            "grid_template_rows": null,
            "height": null,
            "justify_content": null,
            "justify_items": null,
            "left": null,
            "margin": null,
            "max_height": null,
            "max_width": null,
            "min_height": null,
            "min_width": null,
            "object_fit": null,
            "object_position": null,
            "order": null,
            "overflow": null,
            "overflow_x": null,
            "overflow_y": null,
            "padding": null,
            "right": null,
            "top": null,
            "visibility": null,
            "width": null
          }
        },
        "c257ca84f6f64fdf8d21e82b753f618d": {
          "model_module": "@jupyter-widgets/controls",
          "model_name": "DescriptionStyleModel",
          "model_module_version": "1.5.0",
          "state": {
            "_model_module": "@jupyter-widgets/controls",
            "_model_module_version": "1.5.0",
            "_model_name": "DescriptionStyleModel",
            "_view_count": null,
            "_view_module": "@jupyter-widgets/base",
            "_view_module_version": "1.2.0",
            "_view_name": "StyleView",
            "description_width": ""
          }
        },
        "4260d8cb8df44077b94bc7ce9e237731": {
          "model_module": "@jupyter-widgets/base",
          "model_name": "LayoutModel",
          "model_module_version": "1.2.0",
          "state": {
            "_model_module": "@jupyter-widgets/base",
            "_model_module_version": "1.2.0",
            "_model_name": "LayoutModel",
            "_view_count": null,
            "_view_module": "@jupyter-widgets/base",
            "_view_module_version": "1.2.0",
            "_view_name": "LayoutView",
            "align_content": null,
            "align_items": null,
            "align_self": null,
            "border": null,
            "bottom": null,
            "display": null,
            "flex": null,
            "flex_flow": null,
            "grid_area": null,
            "grid_auto_columns": null,
            "grid_auto_flow": null,
            "grid_auto_rows": null,
            "grid_column": null,
            "grid_gap": null,
            "grid_row": null,
            "grid_template_areas": null,
            "grid_template_columns": null,
            "grid_template_rows": null,
            "height": null,
            "justify_content": null,
            "justify_items": null,
            "left": null,
            "margin": null,
            "max_height": null,
            "max_width": null,
            "min_height": null,
            "min_width": null,
            "object_fit": null,
            "object_position": null,
            "order": null,
            "overflow": null,
            "overflow_x": null,
            "overflow_y": null,
            "padding": null,
            "right": null,
            "top": null,
            "visibility": null,
            "width": null
          }
        },
        "f1e2fab2b9774e958d4fda6feb1756ef": {
          "model_module": "@jupyter-widgets/controls",
          "model_name": "ProgressStyleModel",
          "model_module_version": "1.5.0",
          "state": {
            "_model_module": "@jupyter-widgets/controls",
            "_model_module_version": "1.5.0",
            "_model_name": "ProgressStyleModel",
            "_view_count": null,
            "_view_module": "@jupyter-widgets/base",
            "_view_module_version": "1.2.0",
            "_view_name": "StyleView",
            "bar_color": null,
            "description_width": ""
          }
        },
        "bcf53ab7333e4ade9a2bb621146a584d": {
          "model_module": "@jupyter-widgets/base",
          "model_name": "LayoutModel",
          "model_module_version": "1.2.0",
          "state": {
            "_model_module": "@jupyter-widgets/base",
            "_model_module_version": "1.2.0",
            "_model_name": "LayoutModel",
            "_view_count": null,
            "_view_module": "@jupyter-widgets/base",
            "_view_module_version": "1.2.0",
            "_view_name": "LayoutView",
            "align_content": null,
            "align_items": null,
            "align_self": null,
            "border": null,
            "bottom": null,
            "display": null,
            "flex": null,
            "flex_flow": null,
            "grid_area": null,
            "grid_auto_columns": null,
            "grid_auto_flow": null,
            "grid_auto_rows": null,
            "grid_column": null,
            "grid_gap": null,
            "grid_row": null,
            "grid_template_areas": null,
            "grid_template_columns": null,
            "grid_template_rows": null,
            "height": null,
            "justify_content": null,
            "justify_items": null,
            "left": null,
            "margin": null,
            "max_height": null,
            "max_width": null,
            "min_height": null,
            "min_width": null,
            "object_fit": null,
            "object_position": null,
            "order": null,
            "overflow": null,
            "overflow_x": null,
            "overflow_y": null,
            "padding": null,
            "right": null,
            "top": null,
            "visibility": null,
            "width": null
          }
        },
        "95f4b4240553436bbfad3a622627b549": {
          "model_module": "@jupyter-widgets/controls",
          "model_name": "DescriptionStyleModel",
          "model_module_version": "1.5.0",
          "state": {
            "_model_module": "@jupyter-widgets/controls",
            "_model_module_version": "1.5.0",
            "_model_name": "DescriptionStyleModel",
            "_view_count": null,
            "_view_module": "@jupyter-widgets/base",
            "_view_module_version": "1.2.0",
            "_view_name": "StyleView",
            "description_width": ""
          }
        }
      }
    }
  },
  "nbformat": 4,
  "nbformat_minor": 5
}