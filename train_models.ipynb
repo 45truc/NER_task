{
 "cells": [
  {
   "attachments": {},
   "cell_type": "markdown",
   "id": "0204e8c6",
   "metadata": {},
   "source": [
    "This notebook containins all the code required to train the models and store them in fitted model folder."
   ]
  },
  {
   "attachments": {},
   "cell_type": "markdown",
   "id": "63be5430",
   "metadata": {},
   "source": [
    "## Loading Data"
   ]
  },
  {
   "cell_type": "code",
   "execution_count": null,
   "id": "d7b51304",
   "metadata": {},
   "outputs": [],
   "source": []
  },
  {
   "attachments": {},
   "cell_type": "markdown",
   "id": "2ec4d8a1",
   "metadata": {},
   "source": [
    "## Structure Perceptron"
   ]
  },
  {
   "attachments": {},
   "cell_type": "markdown",
   "id": "3dac0fa0",
   "metadata": {},
   "source": [
    "### Structure Perceptron w/ given features"
   ]
  },
  {
   "cell_type": "code",
   "execution_count": null,
   "id": "561e90b5-e280-4214-9d75-70b5a12ad0b0",
   "metadata": {},
   "outputs": [],
   "source": []
  },
  {
   "attachments": {},
   "cell_type": "markdown",
   "id": "89db4477",
   "metadata": {},
   "source": [
    "### Structure Perceptron w/ extra features"
   ]
  },
  {
   "cell_type": "code",
   "execution_count": null,
   "id": "00fbc7c6",
   "metadata": {},
   "outputs": [],
   "source": []
  },
  {
   "attachments": {},
   "cell_type": "markdown",
   "id": "0657d634",
   "metadata": {},
   "source": [
    "## Deep Learning approach"
   ]
  },
  {
   "cell_type": "markdown",
   "id": "9bcccabc",
   "metadata": {},
   "source": []
  }
 ],
 "metadata": {
  "kernelspec": {
   "display_name": "Python 3 (ipykernel)",
   "language": "python",
   "name": "python3"
  },
  "language_info": {
   "codemirror_mode": {
    "name": "ipython",
    "version": 3
   },
   "file_extension": ".py",
   "mimetype": "text/x-python",
   "name": "python",
   "nbconvert_exporter": "python",
   "pygments_lexer": "ipython3",
   "version": "3.10.14"
  }
 },
 "nbformat": 4,
 "nbformat_minor": 5
}
