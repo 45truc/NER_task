{
 "cells": [
  {
   "cell_type": "code",
   "execution_count": 1,
   "id": "10ab9f57-463d-4153-b8a8-43d569c8747a",
   "metadata": {},
   "outputs": [],
   "source": [
    "%matplotlib inline\n",
    "%load_ext autoreload\n",
    "%autoreload 2\n",
    "\n",
    "from pathlib import Path\n",
    "import scipy\n",
    "import numpy as np\n",
    "import os,sys\n",
    "\n",
    "currentdir = Path.cwd()\n",
    "sys.path.insert(0,str(currentdir)+'\\\\utils') \n",
    "import skseq\n",
    "import skseq.sequences.structured_perceptron as spc\n",
    "from utils import *"
   ]
  },
  {
   "attachments": {},
   "cell_type": "markdown",
   "id": "0204e8c6",
   "metadata": {},
   "source": [
    "This notebook containins all the code required to train the models and store them in fitted model folder."
   ]
  },
  {
   "attachments": {},
   "cell_type": "markdown",
   "id": "63be5430",
   "metadata": {},
   "source": [
    "## Loading Data"
   ]
  },
  {
   "cell_type": "code",
   "execution_count": 2,
   "id": "d7b51304",
   "metadata": {},
   "outputs": [],
   "source": [
    "corpus = NerCorpus()"
   ]
  },
  {
   "cell_type": "code",
   "execution_count": 3,
   "id": "0f3b7082-a6dc-4652-b1c0-b8fdba39a019",
   "metadata": {},
   "outputs": [],
   "source": [
    "data_path = \"./data\"\n",
    "\n",
    "#data_path = parentdir + data_path\n",
    "\n",
    "train_seq = corpus.read_sequence_list(data_path + \"/train_data_ner.csv\", \n",
    "                                            max_sent_len=100)"
   ]
  },
  {
   "attachments": {},
   "cell_type": "markdown",
   "id": "2ec4d8a1",
   "metadata": {},
   "source": [
    "## Structure Perceptron"
   ]
  },
  {
   "attachments": {},
   "cell_type": "markdown",
   "id": "3dac0fa0",
   "metadata": {},
   "source": [
    "### Structure Perceptron w/ given features"
   ]
  },
  {
   "cell_type": "code",
   "execution_count": 4,
   "id": "561e90b5-e280-4214-9d75-70b5a12ad0b0",
   "metadata": {},
   "outputs": [],
   "source": [
    "feature_mapper = skseq.sequences.id_feature.IDFeatures(train_seq)\n",
    "feature_mapper.build_features()"
   ]
  },
  {
   "cell_type": "code",
   "execution_count": 5,
   "id": "7eb9de11-3e4c-4c43-9c2f-8884c68482dc",
   "metadata": {},
   "outputs": [
    {
     "name": "stdout",
     "output_type": "stream",
     "text": [
      "Epoch: 0 Accuracy: 0.893766\n",
      "Epoch: 1 Accuracy: 0.931943\n",
      "Epoch: 2 Accuracy: 0.941427\n",
      "Epoch: 3 Accuracy: 0.946285\n",
      "Epoch: 4 Accuracy: 0.949950\n"
     ]
    }
   ],
   "source": [
    "sp = spc.StructuredPerceptron(corpus.word_dict, corpus.tag_dict, feature_mapper)\n",
    "sp.num_epochs = 5\n",
    "num_epochs = 5\n",
    "sp.fit(feature_mapper.dataset, num_epochs)"
   ]
  },
  {
   "cell_type": "code",
   "execution_count": 6,
   "id": "370fb75b-64b2-42fe-b7dc-bdd78ec57e5a",
   "metadata": {},
   "outputs": [],
   "source": [
    "sp.save_model(\"./fitted_models/perceptron_5_iter_given\")"
   ]
  },
  {
   "attachments": {},
   "cell_type": "markdown",
   "id": "89db4477",
   "metadata": {},
   "source": [
    "### Structure Perceptron w/ extra features"
   ]
  },
  {
   "cell_type": "code",
   "execution_count": 4,
   "id": "00fbc7c6",
   "metadata": {},
   "outputs": [],
   "source": [
    "from skseq.sequences.extended_features import *\n",
    "\n",
    "feature_mapper_ext = Extended_Features(train_seq)\n",
    "feature_mapper_ext.build_features()"
   ]
  },
  {
   "cell_type": "code",
   "execution_count": 5,
   "id": "c324bba9-0b09-4159-bb2a-60b8bf5e6c29",
   "metadata": {},
   "outputs": [
    {
     "name": "stdout",
     "output_type": "stream",
     "text": [
      "Epoch: 0 Accuracy: 0.929694\n",
      "Epoch: 1 Accuracy: 0.943821\n",
      "Epoch: 2 Accuracy: 0.947946\n",
      "Epoch: 3 Accuracy: 0.950402\n",
      "Epoch: 4 Accuracy: 0.952245\n"
     ]
    }
   ],
   "source": [
    "sp = spc.StructuredPerceptron(corpus.word_dict, corpus.tag_dict, feature_mapper_ext)\n",
    "sp.num_epochs = 5\n",
    "num_epochs = 5\n",
    "sp.fit(feature_mapper_ext.dataset, num_epochs)"
   ]
  },
  {
   "cell_type": "code",
   "execution_count": 6,
   "id": "e5f093c3-048a-4485-a822-daa33ccfcb74",
   "metadata": {},
   "outputs": [],
   "source": [
    "sp.save_model(\"./fitted_models/perceptron_5_iter_extra\")"
   ]
  },
  {
   "attachments": {},
   "cell_type": "markdown",
   "id": "0657d634",
   "metadata": {},
   "source": [
    "## Deep Learning approach"
   ]
  },
  {
   "cell_type": "markdown",
   "id": "5b7bf3cb-d418-49e6-aefe-2ff5275e1644",
   "metadata": {},
   "source": [
    "### Bi-LSTM\n",
    "\n",
    "If errors occur when running this section, please see the following notebook in Google Colab where all the outputs can be seen: https://drive.google.com/file/d/1QGFU2hH6p8pU6hAaWe6dHxUKCng7t00V/view?usp=sharing"
   ]
  },
  {
   "cell_type": "markdown",
   "id": "9bcccabc",
   "metadata": {},
   "source": [
    "train_df = pd.read_csv('./data/train_data_ner.csv', encoding=\"latin1\").fillna(method=\"ffill\")\n",
    "test_df = pd.read_csv(\"./data/test_data_ner.csv\", encoding=\"latin1\").fillna(method=\"ffill\")\n",
    "tiny_test_df = pd.read_csv(\"./data/tiny_test.csv\", encoding=\"latin1\").fillna(method=\"ffill\")"
   ]
  },
  {
   "cell_type": "code",
   "execution_count": null,
   "id": "62e2e851-94e2-4222-abec-bba3ad53089a",
   "metadata": {},
   "outputs": [],
   "source": [
    "# PREPROCESSING\n",
    "\n",
    "# concatenating 3 df to create 1 vocabulary\n",
    "concatenated_df = pd.concat([train_df, test_df, tiny_test_df], ignore_index=True)\n",
    "\n",
    "# creating vocabulary\n",
    "word2idx, tag2idx, n_words, n_tags, tags = create_vocabulary_bilstm(concatenated_df)\n",
    "\n",
    "# getting sentences\n",
    "train_getter = SentenceGetter(train_df)\n",
    "test_getter = SentenceGetter(test_df)\n",
    "tiny_test_getter = SentenceGetter(tiny_test_df)\n",
    "\n",
    "train_sentences = train_getter.sentences\n",
    "test_sentences = test_getter.sentences\n",
    "tiny_test_sentences = tiny_test_getter.sentences\n",
    "\n",
    "# Encode and pad sequences for each dataset\n",
    "X_train, y_train = encode_and_pad_sequences_bilstm(train_sentences, tags, word2idx, tag2idx, n_words, max_len=50)\n",
    "X_test, y_test = encode_and_pad_sequences_bilstm(test_sentences,tags, word2idx, tag2idx, n_words, max_len=50)\n",
    "X_tiny_test, y_tiny_test = encode_and_pad_sequences_bilstm(tiny_test_sentences, tags, word2idx, tag2idx, n_words, max_len=50)"
   ]
  },
  {
   "cell_type": "code",
   "execution_count": null,
   "id": "4c75f4ee-2879-4f7f-908c-466f3b2889df",
   "metadata": {},
   "outputs": [],
   "source": [
    "# creating dataset and dataloader\n",
    "train_dataset = NERDataset(X_train, y_train)\n",
    "val_dataset = NERDataset(X_test, y_test)\n",
    "\n",
    "train_loader = DataLoader(train_dataset, batch_size=32, shuffle=True)\n",
    "val_loader = DataLoader(val_dataset, batch_size=32, shuffle=False)"
   ]
  },
  {
   "cell_type": "code",
   "execution_count": null,
   "id": "55d446ff-109c-4281-ae28-b9a11aa2872d",
   "metadata": {},
   "outputs": [],
   "source": [
    "# Create class weights\n",
    "weights, unique_tags = create_class_weights(train_df['tags'])"
   ]
  },
  {
   "cell_type": "code",
   "execution_count": null,
   "id": "4275484d-58af-4a54-a908-5a0b901c7176",
   "metadata": {},
   "outputs": [],
   "source": [
    "# hyperparameters for the model\n",
    "embedding_dim = 100\n",
    "hidden_dim = 256\n",
    "dropout = 0.5\n",
    "learning_rate = 0.001\n",
    "weight_decay = 1e-5 # L2 regularization\n",
    "n_epochs = 5\n",
    "\n",
    "# initializing the model\n",
    "model = BiLSTMModel(vocab_size=n_words, tagset_size=n_tags, padding_idx=n_words-1)\n",
    "loss_function = nn.CrossEntropyLoss(weight=weights)\n",
    "optimizer = torch.optim.Adam(model.parameters(), lr=learning_rate, weight_decay=weight_decay)"
   ]
  },
  {
   "cell_type": "code",
   "execution_count": null,
   "id": "f5721323-48b6-4c12-ada9-e4450954dcbb",
   "metadata": {},
   "outputs": [],
   "source": [
    "%%time\n",
    "\n",
    "# Train and evaluate the model\n",
    "train_losses, valid_losses, train_accuracies, valid_accuracies = train_bilstm(train_loader, val_loader, model, loss_function, optimizer, n_epochs, n_tags)"
   ]
  },
  {
   "cell_type": "code",
   "execution_count": null,
   "id": "9d84c095-693b-4e7b-bed5-6941012e7ba7",
   "metadata": {},
   "outputs": [],
   "source": [
    "plot_metrics_bilstm(train_losses, valid_losses, train_accuracies, valid_accuracies)"
   ]
  },
  {
   "cell_type": "code",
   "execution_count": null,
   "id": "eaaef666-9f5f-420d-bf42-aab3e395c88c",
   "metadata": {},
   "outputs": [],
   "source": [
    "# Define the path where you want to save the model\n",
    "model_save_path = \"bi-lstm_model2.pth\"\n",
    "\n",
    "# Save the model's state dictionary\n",
    "torch.save(model.state_dict(), model_save_path)"
   ]
  },
  {
   "cell_type": "code",
   "execution_count": 1,
   "id": "13e37efc-72b8-477c-96f1-c9ba7b9def7c",
   "metadata": {},
   "outputs": [],
   "source": [
    "# evaluating train and test set"
   ]
  },
  {
   "cell_type": "code",
   "execution_count": null,
   "id": "1915847d-3ff0-4742-b020-ee4bea828db6",
   "metadata": {},
   "outputs": [],
   "source": [
    "#train\n",
    "tr_word2idx, tr_tag2idx, tr_n_words, tr_n_tags, tr_tags = create_vocabulary_bilstm(train_df)\n",
    "# Define idx2word and idx2tag mappings\n",
    "tr_idx2word = {v: k for k, v in tr_word2idx.items()}\n",
    "tr_idx2tag = {v: k for k, v in tr_tag2idx.items()}"
   ]
  },
  {
   "cell_type": "code",
   "execution_count": null,
   "id": "3030398b-8d31-44bc-be1d-613706a048a1",
   "metadata": {},
   "outputs": [],
   "source": [
    "# Get predicted and true tags for further analysis\n",
    "train_preds, train_labels = get_predictions_and_labels(model, train_loader)"
   ]
  },
  {
   "cell_type": "code",
   "execution_count": null,
   "id": "16a39140-58a9-4a9e-b974-8bc7f17c23ea",
   "metadata": {},
   "outputs": [],
   "source": [
    "# Convert tags to sentences\n",
    "tagged_sentences = tags_to_sentences(train_sentences, train_preds, idx2word, idx2tag)\n",
    "\n",
    "# Print example sentences with predicted tags\n",
    "for sentence in tagged_sentences:\n",
    "    print(sentence)"
   ]
  },
  {
   "cell_type": "code",
   "execution_count": null,
   "id": "cb1d7af6-f017-48d9-82cc-6112c13b853a",
   "metadata": {},
   "outputs": [],
   "source": [
    "#plot_confusion_matrix_bilstm(y_train, train_preds, idx2tag, save=True) # getting ERROR"
   ]
  },
  {
   "cell_type": "code",
   "execution_count": null,
   "id": "aaa99f0d-15cb-4ef3-a422-385522dac96c",
   "metadata": {},
   "outputs": [],
   "source": [
    "eval_loss, eval_accuracy, eval_accuracy_without_o, f1 = evaluate_bilstm_tiny_test(model, train_loader, loss_function, n_tags, tag2idx)\n",
    "\n",
    "print(f\"Test Loss: {eval_loss}\")\n",
    "print(f\"Test Accuracy: {eval_accuracy}\")\n",
    "print(f\"Test Accuracy without 'O': {eval_accuracy_without_o}\")\n",
    "print(f\"Test F1 Score: {f1}\")"
   ]
  },
  {
   "cell_type": "code",
   "execution_count": null,
   "id": "9173d77f-4659-41aa-a49a-50787b91dbeb",
   "metadata": {},
   "outputs": [],
   "source": [
    "#test\n",
    "ts_word2idx, ts_tag2idx, ts_n_words, ts_n_tags, ts_tags = create_vocabulary_bilstm(test_df)\n",
    "# Define idx2word and idx2tag mappings\n",
    "ts_idx2word = {v: k for k, v in ts_word2idx.items()}\n",
    "ts_idx2tag = {v: k for k, v in ts_tag2idx.items()}"
   ]
  },
  {
   "cell_type": "code",
   "execution_count": null,
   "id": "4bd9e00f-4362-46f7-81a7-e35f27a2e2eb",
   "metadata": {},
   "outputs": [],
   "source": [
    "# Get predicted and true tags for further analysis\n",
    "test_preds, test_labels = get_predictions_and_labels(model, val_loader)"
   ]
  },
  {
   "cell_type": "code",
   "execution_count": null,
   "id": "a05a59d2-f8b7-427b-b7ee-67feeeb6c6ba",
   "metadata": {},
   "outputs": [],
   "source": [
    "# Convert tags to sentences\n",
    "tagged_sentences = tags_to_sentences(test_sentences, test_preds, idx2word, idx2tag)\n",
    "\n",
    "# Print example sentences with predicted tags\n",
    "for sentence in tagged_sentences:\n",
    "    print(sentence)"
   ]
  },
  {
   "cell_type": "code",
   "execution_count": null,
   "id": "6e659b47-d0f4-420f-8ff9-829aa00ac4b3",
   "metadata": {},
   "outputs": [],
   "source": [
    "plot_confusion_matrix_bilstm(y_test, test_preds, idx2tag, save=True)"
   ]
  },
  {
   "cell_type": "code",
   "execution_count": null,
   "id": "8bcecf4a-873d-4115-b5ff-231b744b2371",
   "metadata": {},
   "outputs": [],
   "source": [
    "# Evaluate the model on the test set\n",
    "eval_loss, eval_accuracy, eval_accuracy_without_o, f1 = evaluate_bilstm_tiny_test(model, val_loader, loss_function, n_tags, tag2idx)\n",
    "\n",
    "print(f\"Test Loss: {eval_loss}\")\n",
    "print(f\"Test Accuracy: {eval_accuracy}\")\n",
    "print(f\"Test Accuracy without 'O': {eval_accuracy_without_o}\")\n",
    "print(f\"Test F1 Score: {f1}\")"
   ]
  },
  {
   "cell_type": "markdown",
   "id": "e1d963a8-d46d-4767-8b6c-16a66aca05e9",
   "metadata": {},
   "source": [
    "### Pre-trained BERT"
   ]
  }
 ],
 "metadata": {
  "kernelspec": {
   "display_name": "Python 3 (ipykernel)",
   "language": "python",
   "name": "python3"
  },
  "language_info": {
   "codemirror_mode": {
    "name": "ipython",
    "version": 3
   },
   "file_extension": ".py",
   "mimetype": "text/x-python",
   "name": "python",
   "nbconvert_exporter": "python",
   "pygments_lexer": "ipython3",
   "version": "3.10.14"
  }
 },
 "nbformat": 4,
 "nbformat_minor": 5
}
