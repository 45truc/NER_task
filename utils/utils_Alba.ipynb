{
 "cells": [
  {
   "cell_type": "code",
   "execution_count": 7,
   "metadata": {},
   "outputs": [],
   "source": [
    "import pandas as pd\n",
    "from collections import Counter\n",
    "import matplotlib.pyplot as plt"
   ]
  },
  {
   "cell_type": "code",
   "execution_count": 26,
   "metadata": {},
   "outputs": [],
   "source": [
    "# analysis of tiny_test dataset\n",
    "\n",
    "def analysis_tiny_dataset(df):\n",
    "    # Calculate the number of sentences\n",
    "    num_sentences = df['sentence_id'].nunique()\n",
    "\n",
    "    # Identify the unique entities and their counts\n",
    "    entity_tags = df[df['tags'] != 'O']['tags']\n",
    "    entity_counts = Counter(entity_tags)\n",
    "\n",
    "    # Identify the entities and their occurrences\n",
    "    entities = df[df['tags'] != 'O'][['words', 'tags']]\n",
    "    entity_list = entities.groupby('tags')['words'].apply(list).to_dict()\n",
    "\n",
    "    # Print the analysis\n",
    "    print(f'Number of sentences: {num_sentences}')\n",
    "    print('Entity counts:')\n",
    "    for entity, count in entity_counts.items():\n",
    "        print(f'  {entity}: {count}')\n",
    "    print('Entities and their occurrences:')\n",
    "    for tag, words in entity_list.items():\n",
    "        print(f'  {tag}: {words}')"
   ]
  },
  {
   "cell_type": "code",
   "execution_count": 27,
   "metadata": {},
   "outputs": [
    {
     "name": "stdout",
     "output_type": "stream",
     "text": [
      "Number of sentences: 13\n",
      "Entity counts:\n",
      "  B-geo: 9\n",
      "  B-per: 9\n",
      "  I-per: 6\n",
      "  B-org: 4\n",
      "  I-geo: 6\n",
      "Entities and their occurrences:\n",
      "  B-geo: ['Barcelona', 'Barchelona', 'Parris', 'Paris', 'U.S.A', 'United', 'Saudi', 'Saudi', 'New']\n",
      "  B-org: ['Microsoft', 'Microsoft', 'Apple', 'Microsoft']\n",
      "  B-per: ['Jack', 'Jack', 'Bill', 'Steve', 'Bill', 'Steve', 'Robin', 'Alice', 'Henry']\n",
      "  I-geo: ['States', 'of', 'America', 'Arabia', 'Arabia', 'York']\n",
      "  I-per: ['London', 'London', 'gates', 'jobs', 'Gates', 'Jobs']\n"
     ]
    }
   ],
   "source": [
    "df = pd.read_csv('tiny_test.csv')\n",
    "analysis_tiny_dataset(df)"
   ]
  },
  {
   "cell_type": "code",
   "execution_count": 24,
   "metadata": {},
   "outputs": [],
   "source": [
    "# analysis of train and test data\n",
    "\n",
    "def analysis_train_test_data(train_df, test_df):\n",
    "\n",
    "    # Calculate the number of sentences\n",
    "    num_sentences_train = train_df['sentence_id'].nunique()\n",
    "    num_sentences_test = test_df['sentence_id'].nunique()\n",
    "    print(f'Number of sentences in train: {num_sentences_train}')\n",
    "    print(f'Number of sentences in test: {num_sentences_test}')\n",
    "\n",
    "    # Count the tags in train and test datasets, ignoring 'O' tags\n",
    "    train_entity_counts = Counter(train_df[train_df['tags'] != 'O']['tags'])\n",
    "    test_entity_counts = Counter(test_df[test_df['tags'] != 'O']['tags'])\n",
    "\n",
    "    # Sort entity counts in descending order for consistency in both datasets\n",
    "    sorted_train_counts = dict(sorted(train_entity_counts.items(), key=lambda item: item[1], reverse=True))\n",
    "    sorted_test_counts = {tag: test_entity_counts.get(tag, 0) for tag in sorted_train_counts.keys()}\n",
    "\n",
    "    print('Entity counts in train:')\n",
    "    for entity, count in sorted_train_counts.items():\n",
    "        print(f'  {entity}: {count}')\n",
    "\n",
    "    print('Entity counts in test:')\n",
    "    for entity, count in sorted_test_counts.items():\n",
    "        print(f'  {entity}: {count}')\n",
    "\n",
    "    # Prepare data for plotting\n",
    "    tags = list(sorted_train_counts.keys())\n",
    "    train_counts = [sorted_train_counts[tag] for tag in tags]\n",
    "    test_counts = [sorted_test_counts[tag] for tag in tags]\n",
    "\n",
    "    # Define colors for train and test bars\n",
    "    train_color = 'blue'\n",
    "    test_color = 'green'\n",
    "\n",
    "    # Width of the bars\n",
    "    bar_width = 0.4\n",
    "\n",
    "    # Positions of the bars on the x-axis\n",
    "    r1 = range(len(tags))\n",
    "    r2 = [x + bar_width for x in r1]\n",
    "\n",
    "    # Plotting the combined histogram\n",
    "    plt.figure(figsize=(14, 8))\n",
    "    plt.bar(r1, train_counts, color=train_color, width=bar_width, edgecolor='grey', label='Train Data')\n",
    "    plt.bar(r2, test_counts, color=test_color, width=bar_width, edgecolor='grey', label='Test Data')\n",
    "\n",
    "    # Add labels and title\n",
    "    plt.xlabel('Entity Tags', fontweight='bold')\n",
    "    plt.ylabel('Count', fontweight='bold')\n",
    "    plt.title('Entity Tag Counts in Train and Test Data', fontweight='bold')\n",
    "    plt.xticks([r + bar_width / 2 for r in range(len(tags))], tags, rotation=45)\n",
    "    plt.legend()\n",
    "\n",
    "    # Adjust layout and show the plot\n",
    "    plt.tight_layout()\n",
    "    plt.show()"
   ]
  },
  {
   "cell_type": "code",
   "execution_count": 25,
   "metadata": {},
   "outputs": [
    {
     "name": "stdout",
     "output_type": "stream",
     "text": [
      "Number of sentences in train: 38366\n",
      "Number of sentences in test: 38367\n",
      "Entity counts in train:\n",
      "  B-geo: 30113\n",
      "  B-tim: 16317\n",
      "  B-org: 16127\n",
      "  I-per: 13845\n",
      "  B-per: 13568\n",
      "  I-org: 13526\n",
      "  B-gpe: 12739\n",
      "  I-geo: 5898\n",
      "  I-tim: 5258\n",
      "  B-art: 314\n",
      "  B-eve: 244\n",
      "  I-art: 242\n",
      "  I-eve: 205\n",
      "  I-gpe: 161\n",
      "  B-nat: 157\n",
      "  I-nat: 44\n",
      "Entity counts in test:\n",
      "  B-geo: 30114\n",
      "  B-tim: 16131\n",
      "  B-org: 16019\n",
      "  I-per: 13830\n",
      "  B-per: 13691\n",
      "  I-org: 13281\n",
      "  B-gpe: 12649\n",
      "  I-geo: 5937\n",
      "  I-tim: 5235\n",
      "  B-art: 317\n",
      "  B-eve: 243\n",
      "  I-art: 221\n",
      "  I-eve: 197\n",
      "  I-gpe: 151\n",
      "  B-nat: 175\n",
      "  I-nat: 42\n"
     ]
    },
    {
     "data": {
      "image/png": "[encoded data removed]",
      "text/plain": [
       "<Figure size 1008x576 with 1 Axes>"
      ]
     },
     "metadata": {
      "needs_background": "light"
     },
     "output_type": "display_data"
    },
    {
     "name": "stdout",
     "output_type": "stream",
     "text": [
      "Entity counts in Train Data:\n",
      "  B-geo: 30113\n",
      "  B-tim: 16317\n",
      "  B-org: 16127\n",
      "  I-per: 13845\n",
      "  B-per: 13568\n",
      "  I-org: 13526\n",
      "  B-gpe: 12739\n",
      "  I-geo: 5898\n",
      "  I-tim: 5258\n",
      "  B-art: 314\n",
      "  B-eve: 244\n",
      "  I-art: 242\n",
      "  I-eve: 205\n",
      "  I-gpe: 161\n",
      "  B-nat: 157\n",
      "  I-nat: 44\n",
      "\n",
      "Entity counts in Test Data:\n",
      "  B-geo: 30114\n",
      "  B-tim: 16131\n",
      "  B-org: 16019\n",
      "  I-per: 13830\n",
      "  B-per: 13691\n",
      "  I-org: 13281\n",
      "  B-gpe: 12649\n",
      "  I-geo: 5937\n",
      "  I-tim: 5235\n",
      "  B-art: 317\n",
      "  B-eve: 243\n",
      "  I-art: 221\n",
      "  I-eve: 197\n",
      "  I-gpe: 151\n",
      "  B-nat: 175\n",
      "  I-nat: 42\n"
     ]
    }
   ],
   "source": [
    "train_df = pd.read_csv('train_data_ner.csv')\n",
    "test_df = pd.read_csv('test_data_ner.csv')\n",
    "\n",
    "analysis_train_test_data(train_df, test_df)"
   ]
  }
 ],
 "metadata": {
  "kernelspec": {
   "display_name": "Python 3",
   "language": "python",
   "name": "python3"
  },
  "language_info": {
   "codemirror_mode": {
    "name": "ipython",
    "version": 3
   },
   "file_extension": ".py",
   "mimetype": "text/x-python",
   "name": "python",
   "nbconvert_exporter": "python",
   "pygments_lexer": "ipython3",
   "version": "3.10.4"
  }
 },
 "nbformat": 4,
 "nbformat_minor": 2
}
